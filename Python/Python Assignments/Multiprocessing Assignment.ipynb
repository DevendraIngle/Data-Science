{
 "cells": [
  {
   "cell_type": "markdown",
   "id": "8fdadc18",
   "metadata": {},
   "source": [
    "# Multiprocessing"
   ]
  },
  {
   "cell_type": "markdown",
   "id": "feecce3f",
   "metadata": {},
   "source": [
    "Q1. What is multiprocessing in python? Why is it useful?"
   ]
  },
  {
   "cell_type": "markdown",
   "id": "c720217b",
   "metadata": {},
   "source": [
    "### Multiprocessing in Python\n",
    "\n",
    "**Multiprocessing** in Python is a module that allows you to create processes that run concurrently. Unlike threading, which is suited for I/O-bound tasks, multiprocessing can take advantage of multiple CPU cores for parallel execution, making it ideal for CPU-bound tasks. \n",
    "\n",
    "### Why is Multiprocessing Useful?\n",
    "\n",
    "1. **Parallel Execution**:\n",
    "   - Utilizes multiple cores to run tasks simultaneously, increasing the computational efficiency for CPU-bound tasks.\n",
    "   \n",
    "2. **Avoids GIL Limitations**:\n",
    "   - Python’s Global Interpreter Lock (GIL) can be a bottleneck for multi-threaded programs. Multiprocessing circumvents the GIL by using separate memory spaces for each process.\n",
    "\n",
    "3. **Improved Performance**:\n",
    "   - For tasks that require heavy computation, multiprocessing can significantly speed up execution time by dividing the workload across multiple processes.\n",
    "\n",
    "4. **Scalability**:\n",
    "   - Allows applications to scale and handle more workload without being limited by a single CPU core.\n",
    "\n",
    "5. **Isolation**:\n",
    "   - Each process has its own memory space, reducing the risk of data corruption due to shared state issues.\n",
    "\n",
    "### Key Features of the multiprocessing Module\n",
    "\n",
    "1. **Process Class**:\n",
    "   - Allows you to create and manage separate processes. Similar to threading but for processes.\n",
    "\n",
    "2. **Pool Class**:\n",
    "   - Manages a pool of worker processes, providing a simple way to parallelize execution across multiple input values.\n",
    "\n",
    "3. **Queue and Pipe**:\n",
    "   - Inter-process communication (IPC) tools that allow processes to communicate with each other and share data.\n",
    "\n",
    "4. **Lock**:\n",
    "   - Mechanisms to synchronize access to shared resources to prevent race conditions.\n"
   ]
  },
  {
   "cell_type": "markdown",
   "id": "2c7508aa",
   "metadata": {},
   "source": [
    "Q2. What are the differences between multiprocessing and multithreading?"
   ]
  },
  {
   "cell_type": "markdown",
   "id": "c1e8b56a",
   "metadata": {},
   "source": [
    "### Differences Between Multiprocessing and Multithreading\n",
    "\n",
    "**Multiprocessing** and **multithreading** are both methods of achieving concurrency in Python, but they differ significantly in their implementation, use cases, and benefits. Here's a detailed comparison:\n",
    "\n",
    "### Multiprocessing\n",
    "\n",
    "1. **Definition**:\n",
    "   - Involves running multiple processes, each with its own Python interpreter and memory space.\n",
    "   \n",
    "2. **Memory**:\n",
    "   - Each process has its own memory space. This means memory is not shared between processes unless explicitly done using inter-process communication (IPC) mechanisms like `Queue` or `Pipe`.\n",
    "\n",
    "3. **GIL (Global Interpreter Lock)**:\n",
    "   - Bypasses the Global Interpreter Lock (GIL) as each process runs in its own interpreter and memory space. This makes it suitable for CPU-bound tasks.\n",
    "\n",
    "4. **Performance**:\n",
    "   - Better for CPU-bound tasks that require a lot of computation.\n",
    "   - Utilizes multiple CPU cores, providing true parallelism.\n",
    "\n",
    "5. **Overhead**:\n",
    "   - Higher memory and resource overhead due to separate memory spaces for each process.\n",
    "   - Process creation can be slower compared to threads.\n",
    "\n",
    "6. **Use Cases**:\n",
    "   - Suitable for tasks that are CPU-intensive, such as heavy computations, image processing, and scientific calculations.\n",
    "\n",
    "### Multithreading\n",
    "\n",
    "1. **Definition**:\n",
    "   - Involves running multiple threads within the same process, sharing the same memory space.\n",
    "   \n",
    "2. **Memory**:\n",
    "   - Threads share the same memory space, which allows for easy communication but also introduces potential issues like race conditions.\n",
    "\n",
    "3. **GIL (Global Interpreter Lock)**:\n",
    "   - Subject to the Global Interpreter Lock (GIL), which can be a bottleneck for CPU-bound tasks. The GIL ensures that only one thread executes Python bytecode at a time, limiting true parallelism.\n",
    "\n",
    "4. **Performance**:\n",
    "   - Better for I/O-bound tasks that spend a lot of time waiting for external resources (like network or disk I/O).\n",
    "   - Not suitable for CPU-bound tasks due to the GIL.\n",
    "\n",
    "5. **Overhead**:\n",
    "   - Lower memory overhead compared to multiprocessing since threads share the same memory space.\n",
    "   - Thread creation is faster compared to process creation.\n",
    "\n",
    "6. **Use Cases**:\n",
    "   - Suitable for tasks that are I/O-bound, such as network operations, file I/O, and applications with many background tasks.\n",
    "\n"
   ]
  },
  {
   "cell_type": "raw",
   "id": "87b5280b",
   "metadata": {},
   "source": [
    "Q3. Write a python code to create a process using the multiprocessing module."
   ]
  },
  {
   "cell_type": "markdown",
   "id": "790d2615",
   "metadata": {},
   "source": [
    "\n",
    "import multiprocessing\n",
    "\n",
    "#Define a function to be run in a separate process\n",
    "def worker_function(number):\n",
    "    print(f'Worker {number} is running')\n",
    "\n",
    "if __name__ == '__main__':\n",
    "    # Create a process object\n",
    "    process = multiprocessing.Process(target=worker_function, args=(1,))\n",
    "\n",
    "    # Start the process\n",
    "    process.start()\n",
    "\n",
    "    # Wait for the process to finish\n",
    "    process.join()\n",
    "\n",
    "    print('Process has finished')\n",
    "```\n",
    "\n",
    "### Explanation\n",
    "\n",
    "1. **Import the `multiprocessing` Module**:\n",
    "   ```python\n",
    "   import multiprocessing\n",
    "   ```\n",
    "\n",
    "2. **Define a Worker Function**:\n",
    "   - This function will be executed in the separate process.\n",
    "   ```python\n",
    "   def worker_function(number):\n",
    "       print(f'Worker {number} is running')\n",
    "   ```\n",
    "\n",
    "3. **Create a Process Object**:\n",
    "   - Use the `multiprocessing.Process` class to create a new process.\n",
    "   - The `target` parameter specifies the function to run.\n",
    "   - The `args` parameter is a tuple of arguments to pass to the function.\n",
    "   ```python\n",
    "   if __name__ == '__main__':\n",
    "       process = multiprocessing.Process(target=worker_function, args=(1,))\n",
    "   ```\n",
    "\n",
    "4. **Start the Process**:\n",
    "   - Use the `start()` method to begin the execution of the process.\n",
    "   ```python\n",
    "   process.start()\n",
    "   ```\n",
    "\n",
    "5. **Wait for the Process to Complete**:\n",
    "   - Use the `join()` method to block the main program until the process finishes.\n",
    "   ```python\n",
    "   process.join()\n",
    "   ```\n",
    "\n",
    "6. **Output Confirmation**:\n",
    "   - Print a message after the process has finished.\n",
    "   ```python\n",
    "   print('Process has finished')\n",
    "   ```\n",
    "\n",
    "### Running the Code\n",
    "\n",
    "To run the code, save it to a file (e.g., `multiprocessing_example.py`) and execute it with Python:\n",
    "\n",
    "```sh\n",
    "python multiprocessing_example.py\n",
    "```\n",
    "\n",
    "You should see the output:\n",
    "\n",
    "```\n",
    "Worker 1 is running\n",
    "Process has finished\n",
    "```\n"
   ]
  },
  {
   "cell_type": "markdown",
   "id": "08f76794",
   "metadata": {},
   "source": [
    "Q4. What is a multiprocessing pool in python? Why is it used?"
   ]
  },
  {
   "cell_type": "markdown",
   "id": "b680dbc6",
   "metadata": {},
   "source": [
    "### Multiprocessing Pool in Python\n",
    "\n",
    "**A multiprocessing pool** in Python is a high-level interface provided by the `multiprocessing` module that simplifies the process of parallelizing the execution of a function across multiple input values. The `Pool` class manages a pool of worker processes, distributing the tasks among the processes and collecting the results.\n",
    "\n",
    "### Why is it Used?\n",
    "\n",
    "1. **Simplifies Parallel Execution**:\n",
    "   - The `Pool` class provides an easy way to parallelize the execution of a function across multiple input values, without needing to manage the individual processes manually.\n",
    "\n",
    "2. **Efficient Resource Management**:\n",
    "   - A pool of worker processes is managed, which means that the overhead of creating and destroying processes is minimized. The same processes can be reused for multiple tasks.\n",
    "\n",
    "3. **Concurrency Control**:\n",
    "   - Controls the number of worker processes used for parallel execution, which helps in managing CPU and memory resources effectively.\n",
    "\n",
    "4. **Load Balancing**:\n",
    "   - The pool distributes the tasks among the available worker processes, balancing the load and ensuring efficient utilization of resources.\n",
    "\n",
    "### Key Methods\n",
    "\n",
    "1. **`apply` and `apply_async`**:\n",
    "   - These methods apply a function to a single input value. `apply` is synchronous (blocking), while `apply_async` is asynchronous (non-blocking).\n",
    "\n",
    "2. **`map` and `map_async`**:\n",
    "   - These methods apply a function to a list of input values. `map` is synchronous, while `map_async` is asynchronous.\n",
    "\n",
    "3. **`starmap` and `starmap_async`**:\n",
    "   - Similar to `map` and `map_async`, but allow the function to accept multiple arguments.\n",
    "\n"
   ]
  },
  {
   "cell_type": "markdown",
   "id": "18dc7d82",
   "metadata": {},
   "source": [
    "Q5. How can we create a pool of worker processes in python using the multiprocessing module?"
   ]
  },
  {
   "cell_type": "markdown",
   "id": "a6eb5df8",
   "metadata": {},
   "source": [
    "Creating a pool of worker processes in Python using the `multiprocessing` module involves using the `Pool` class. The `Pool` class provides a convenient way to parallelize the execution of a function across multiple input values. Here's a step-by-step guide on how to create and use a pool of worker processes.\n",
    "\n",
    "### Step-by-Step Guide\n",
    "\n",
    "1. **Import the `multiprocessing` Module**:\n",
    "   - Ensure you have the `multiprocessing` module available in your script.\n",
    "\n",
    "2. **Define the Worker Function**:\n",
    "   - Create a function that will be executed by the worker processes.\n",
    "\n",
    "3. **Create a Pool Object**:\n",
    "   - Instantiate a `Pool` object with a specified number of worker processes.\n",
    "\n",
    "4. **Distribute Tasks**:\n",
    "   - Use methods like `map`, `apply`, `starmap`, etc., to distribute tasks among the worker processes.\n",
    "\n",
    "5. **Close and Join the Pool**:\n",
    "   - Ensure the pool is properly closed and joined to clean up resources.\n",
    "\n",
    "### Example Code\n",
    "\n",
    "\n",
    "\n",
    "\n"
   ]
  },
  {
   "cell_type": "code",
   "execution_count": 2,
   "id": "c29589cb",
   "metadata": {},
   "outputs": [
    {
     "ename": "",
     "evalue": "",
     "output_type": "error",
     "traceback": [
      "\u001b[1;31mThe Kernel crashed while executing code in the current cell or a previous cell. \n",
      "\u001b[1;31mPlease review the code in the cell(s) to identify a possible cause of the failure. \n",
      "\u001b[1;31mClick <a href='https://aka.ms/vscodeJupyterKernelCrash'>here</a> for more info. \n",
      "\u001b[1;31mView Jupyter <a href='command:jupyter.viewOutput'>log</a> for further details."
     ]
    }
   ],
   "source": [
    "import multiprocessing\n",
    "\n",
    "# Define the worker function\n",
    "def square(x):\n",
    "    return x * x\n",
    "\n",
    "if __name__ == '__main__':\n",
    "    # List of numbers to process\n",
    "    numbers = [1, 2, 3, 4, 5]\n",
    "\n",
    "    # Create a pool of worker processes\n",
    "    with multiprocessing.Pool(processes=4) as pool:\n",
    "        # Distribute the tasks among the worker processes using map\n",
    "        results = pool.map(square, numbers)\n",
    "\n",
    "    # Print the results\n",
    "    print(results)"
   ]
  },
  {
   "cell_type": "markdown",
   "id": "ecf3851e",
   "metadata": {},
   "source": [
    "Q6. Write a python program to create 4 processes, each process should print a different number using the\n",
    "multiprocessing module in python."
   ]
  },
  {
   "cell_type": "code",
   "execution_count": null,
   "id": "11c6bf6e",
   "metadata": {},
   "outputs": [
    {
     "name": "stdout",
     "output_type": "stream",
     "text": [
      "Main process finished.\n"
     ]
    }
   ],
   "source": [
    "import multiprocessing\n",
    "import sys  # Import the sys module\n",
    "\n",
    "# Define the worker function\n",
    "def print_number(number):\n",
    "    print(f'Process: {multiprocessing.current_process().name} Number: {number}')\n",
    "    sys.stdout.flush()  # Flush the output buffer\n",
    "\n",
    "if __name__ == '__main__':\n",
    "    # List of numbers to print\n",
    "    numbers = [1, 2, 3, 4]\n",
    "\n",
    "    # Create a list to hold the process objects\n",
    "    processes = []\n",
    "\n",
    "    # Create and start a process for each number\n",
    "    for number in numbers:\n",
    "        process = multiprocessing.Process(target=print_number, args=(number,))\n",
    "        processes.append(process)\n",
    "        process.start()\n",
    "\n",
    "    # Wait for all processes to complete\n",
    "    for process in processes:\n",
    "        process.join()\n",
    "\n",
    "    print('Main process finished.')\n"
   ]
  },
  {
   "cell_type": "code",
   "execution_count": null,
   "id": "b55954cb",
   "metadata": {},
   "outputs": [],
   "source": []
  }
 ],
 "metadata": {
  "kernelspec": {
   "display_name": "Python 3 (ipykernel)",
   "language": "python",
   "name": "python3"
  },
  "language_info": {
   "codemirror_mode": {
    "name": "ipython",
    "version": 3
   },
   "file_extension": ".py",
   "mimetype": "text/x-python",
   "name": "python",
   "nbconvert_exporter": "python",
   "pygments_lexer": "ipython3",
   "version": "3.12.4"
  }
 },
 "nbformat": 4,
 "nbformat_minor": 5
}
