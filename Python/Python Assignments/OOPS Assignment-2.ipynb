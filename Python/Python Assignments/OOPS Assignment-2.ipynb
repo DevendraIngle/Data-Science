{
 "cells": [
  {
   "cell_type": "markdown",
   "id": "0afcde51",
   "metadata": {},
   "source": [
    "Q1. What is Abstraction in OOps? Explain with an example."
   ]
  },
  {
   "cell_type": "markdown",
   "id": "0d2652f7",
   "metadata": {},
   "source": [
    "Abstraction: \n",
    "\n",
    "In object-oriented programming (OOP), abstraction is the concept of hiding the complex implementation details and showing only the essential features of an object to the outside world. It allows the user to focus on what an object does rather than how it does it. Abstraction simplifies the programming model by providing a clear separation between the interface (what is visible and accessible) and the implementation (how it works internally)."
   ]
  },
  {
   "cell_type": "markdown",
   "id": "36541d89",
   "metadata": {},
   "source": [
    "Key Aspects of Abstraction:\n",
    "\n",
    "2. Hiding Implementation Details:\n",
    "Abstraction hides the internal workings and complexities of an object, exposing only the necessary details that are relevant to the user. This reduces complexity and makes it easier to use and understand the object.\n",
    "\n",
    "1. Defining Interfaces:\n",
    "Abstraction defines a set of methods or operations that represent the interface of an object. These methods define what the object can do, without revealing how it achieves those operations."
   ]
  },
  {
   "cell_type": "code",
   "execution_count": 10,
   "id": "07529d6c",
   "metadata": {},
   "outputs": [
    {
     "name": "stdout",
     "output_type": "stream",
     "text": [
      "Database is connected\n",
      "Your system is loggedin\n",
      "Bank app is now secured\n"
     ]
    }
   ],
   "source": [
    "from abc import ABC, abstractmethod\n",
    "\n",
    "class BankAccess(ABC):\n",
    "    \n",
    "    def database(self):\n",
    "        print(\"Database is connected\")\n",
    "    \n",
    "    @abstractmethod\n",
    "    def security(self):\n",
    "        print(\"this is secured system\") #or either you use pass\n",
    "        \n",
    "class Bankapp(BankAccess):\n",
    "    \n",
    "    def bankapplogin(self)        \n",
    "        print(\"Your system is loggedin\")\n",
    "    \n",
    "    def security(self):\n",
    "        print(\"Bank app is now secured\")\n",
    "        \n",
    "sbi = Bankapp()\n",
    "sbi.database()\n",
    "sbi.bankapplogin()\n",
    "sbi.security()\n",
    "    \n"
   ]
  },
  {
   "cell_type": "markdown",
   "id": "1a2b8f78",
   "metadata": {},
   "source": [
    "Another Example:"
   ]
  },
  {
   "cell_type": "code",
   "execution_count": null,
   "id": "99ab8fab",
   "metadata": {},
   "outputs": [],
   "source": [
    "from abc import ABC, abstractmethod\n",
    "\n",
    "class Shape(ABC):\n",
    "    @abstractmethod\n",
    "    def area(self):\n",
    "        pass\n",
    "\n",
    "    @abstractmethod\n",
    "    def perimeter(self):\n",
    "        pass\n",
    "\n",
    "class Rectangle(Shape):\n",
    "    def __init__(self, length, width):\n",
    "        self.length = length\n",
    "        self.width = width\n",
    "\n",
    "    def area(self):\n",
    "        return self.length * self.width\n",
    "\n",
    "    def perimeter(self):\n",
    "        return 2 * (self.length + self.width)\n",
    "\n",
    "# Creating objects and using abstraction\n",
    "rectangle = Rectangle(5, 3)\n",
    "print(\"Area:\", rectangle.area())  # Output: Area: 15\n",
    "print(\"Perimeter:\", rectangle.perimeter())  # Output: Perimeter: 16\n"
   ]
  },
  {
   "cell_type": "markdown",
   "id": "e11e6221",
   "metadata": {},
   "source": [
    "Q2. Differentiate between Abstraction and Encapsulation. Explain with an example."
   ]
  },
  {
   "cell_type": "markdown",
   "id": "9effe816",
   "metadata": {},
   "source": [
    "\n",
    "Abstraction and encapsulation are two fundamental concepts in object-oriented programming (OOP), but they serve different purposes and have distinct characteristics. Here's a comparison between abstraction and encapsulation, along with examples for each:\n",
    "\n",
    "Abstraction:\n",
    "\n",
    "Purpose:\n",
    "\n",
    "1. Abstraction focuses on hiding the complex implementation details of an object and showing only the essential features or behavior to the outside world.\n",
    "2. It allows the user to focus on what an object does rather than how it does it.\n",
    "\n",
    "Implementation:\n",
    "\n",
    "1. Abstraction is achieved by defining a clear interface (set of methods or operations) for an object, without exposing the internal workings of the object.\n",
    "2. It defines a contract or blueprint for how an object should be used, abstracting away the implementation details."
   ]
  },
  {
   "cell_type": "code",
   "execution_count": 13,
   "id": "ebbd3b6a",
   "metadata": {},
   "outputs": [
    {
     "name": "stdout",
     "output_type": "stream",
     "text": [
      "Area: 15\n",
      "Perimeter: 16\n"
     ]
    }
   ],
   "source": [
    "from abc import ABC, abstractmethod\n",
    "\n",
    "class Shape(ABC):\n",
    "    @abstractmethod\n",
    "    def area(self):\n",
    "        pass\n",
    "\n",
    "    @abstractmethod\n",
    "    def perimeter(self):\n",
    "        pass\n",
    "\n",
    "class Rectangle(Shape):\n",
    "    def __init__(self, length, width):\n",
    "        self.length = length\n",
    "        self.width = width\n",
    "\n",
    "    def area(self):\n",
    "        return self.length * self.width\n",
    "\n",
    "    def perimeter(self):\n",
    "        return 2 * (self.length + self.width)\n",
    "\n",
    "rectangle = Rectangle(5, 3)\n",
    "print(\"Area:\", rectangle.area())  # Output: Area: 15\n",
    "print(\"Perimeter:\", rectangle.perimeter())  # Output: Perimeter: 16\n"
   ]
  },
  {
   "cell_type": "markdown",
   "id": "b1b49f13",
   "metadata": {},
   "source": [
    "Encapsulation:\n",
    "\n",
    "Purpose:\n",
    "\n",
    "1. Encapsulation focuses on bundling the data (attributes) and methods (behavior) that operate on the data into a single unit called a class.\n",
    "2. It hides the internal state of an object and restricts direct access to its data, allowing access only through well-defined interfaces (methods).\n",
    "\n",
    "Implementation:\n",
    "\n",
    "1. Encapsulation is achieved by defining attributes as private or protected and providing public methods (getters and setters) to access and modify the attributes.\n",
    "2. It prevents external code from directly accessing or modifying the object's internal state, enforcing data hiding and ensuring data integrity."
   ]
  },
  {
   "cell_type": "code",
   "execution_count": 14,
   "id": "42394734",
   "metadata": {},
   "outputs": [
    {
     "name": "stdout",
     "output_type": "stream",
     "text": [
      "Make: Toyota\n",
      "Make: Honda\n"
     ]
    }
   ],
   "source": [
    "class Car:\n",
    "    def __init__(self, make, model, year):\n",
    "        self._make = make  # Protected attribute\n",
    "        self._model = model  # Protected attribute\n",
    "        self._year = year  # Protected attribute\n",
    "\n",
    "    def get_make(self):\n",
    "        return self._make\n",
    "\n",
    "    def set_make(self, make):\n",
    "        self._make = make\n",
    "\n",
    "    # Similar getter and setter methods for model and year\n",
    "\n",
    "my_car = Car(\"Toyota\", \"Camry\", 2022)\n",
    "print(\"Make:\", my_car.get_make())  # Output: Make: Toyota\n",
    "my_car.set_make(\"Honda\")\n",
    "print(\"Make:\", my_car.get_make())  # Output: Make: Honda\n"
   ]
  },
  {
   "cell_type": "markdown",
   "id": "6acb2eab",
   "metadata": {},
   "source": [
    "Q3. What is abc module in python? Why is it used?"
   ]
  },
  {
   "cell_type": "markdown",
   "id": "9bceedd7",
   "metadata": {},
   "source": [
    "The abc module in Python provides the foundation for defining Abstract Base Classes (ABCs). While Python doesn't directly support abstract classes, the abc module offers the tools to create them.\n",
    "\n",
    "Why use ABCs?\n",
    "\n",
    "ABCs offer several benefits in object-oriented programming:\n",
    "\n",
    "1. Enforcing Interfaces:\n",
    "\n",
    "ABCs define a contract or blueprint for subclasses. They specify required methods (abstract methods) that subclasses must implement to be useful. This ensures consistency and prevents incomplete implementations.\n",
    "\n",
    "2. Promoting Code Reusability:\n",
    "\n",
    "Base classes with ABCs can define common functionality shared by subclasses. Subclasses can then focus on implementing specific behaviors without duplicating code.\n",
    "\n",
    "3. Type Checking and Verification:\n",
    "\n",
    "The abc module provides functions like isinstance and issubclass to verify if a class or object adheres to an ABC. This helps in ensuring code correctness and catching potential issues early.\n",
    "\n",
    "4. Framework Design:\n",
    "\n",
    "ABCs are instrumental in designing frameworks where different classes need to implement a common interface. They define the expected behavior without dictating the specific implementation."
   ]
  },
  {
   "cell_type": "code",
   "execution_count": 15,
   "id": "d75e80ec",
   "metadata": {},
   "outputs": [
    {
     "name": "stdout",
     "output_type": "stream",
     "text": [
      "15\n"
     ]
    }
   ],
   "source": [
    "from abc import ABC, abstractmethod\n",
    "\n",
    "class Shape(ABC):\n",
    "  @abstractmethod\n",
    "  def area(self):\n",
    "    pass\n",
    "\n",
    "class Rectangle(Shape):\n",
    "  def __init__(self, length, width):\n",
    "    self.length = length\n",
    "    self.width = width\n",
    "\n",
    "  def area(self):\n",
    "    return self.length * self.width\n",
    "\n",
    "# You cannot create an instance of Shape directly (abstract class)\n",
    "# But you can create a Rectangle which implements the required method\n",
    "rectangle = Rectangle(5, 3)\n",
    "print(rectangle.area())  # Output: 15\n"
   ]
  },
  {
   "cell_type": "markdown",
   "id": "a691391d",
   "metadata": {},
   "source": [
    "Q4. How can we achieve data abstraction?"
   ]
  },
  {
   "cell_type": "markdown",
   "id": "26f52ba0",
   "metadata": {},
   "source": [
    "Data abstraction in Python can be achieved through various mechanisms, including the use of classes, access modifiers, and modular design principles. Here are some ways to achieve data abstraction:\n",
    "\n",
    "1. **Classes and Objects:**\n",
    "   Define classes to represent entities or objects in your system. Encapsulate data (attributes) and behavior (methods) within these classes. Users interact with objects through well-defined interfaces without needing to know the internal details of how the data is stored or processed.\n",
    "\n",
    "2. **Access Modifiers:**\n",
    "   Use access modifiers such as public, protected, and private to control access to class members (attributes and methods). This helps in hiding the internal implementation details and exposing only the necessary interfaces to the outside world, promoting encapsulation and data abstraction.\n",
    "\n",
    "3. **Encapsulation:**\n",
    "   Encapsulate data within classes by making attributes private or protected and providing getter and setter methods to access and modify the data. By controlling access to data, you can enforce data abstraction and ensure that users interact with objects through defined interfaces, rather than accessing data directly.\n",
    "\n",
    "4. **Abstract Base Classes (ABCs):**\n",
    "   Define abstract base classes using the `abc` module to specify a common interface or protocol that subclasses must adhere to. Abstract methods in base classes serve as placeholders for concrete implementations in subclasses, promoting a consistent API and enforcing data abstraction.\n",
    "\n",
    "5. **Modular Design:**\n",
    "   Design your system in a modular way, with each module responsible for a specific aspect of functionality. Use abstraction to hide the internal details of each module and provide well-defined interfaces for interaction between modules. This helps in managing complexity, promoting code reuse, and facilitating maintenance.\n",
    "\n",
    "6. **Documentation and Comments:**\n",
    "   Provide clear documentation and comments to explain the purpose and usage of classes, methods, and attributes. This helps in understanding the abstraction levels and usage patterns of different components in your codebase.\n",
    "\n"
   ]
  },
  {
   "cell_type": "markdown",
   "id": "9e93c55e",
   "metadata": {},
   "source": [
    "Q5. Can we create an instance of an abstract class? Explain your answer."
   ]
  },
  {
   "cell_type": "markdown",
   "id": "5ec77824",
   "metadata": {},
   "source": [
    "\n",
    "No, we cannot create an instance of an abstract class in Python. Abstract classes are meant to serve as templates for concrete subclasses and define a common interface or protocol that subclasses must implement. They typically contain one or more abstract methods, which are methods declared without implementation.\n",
    "\n",
    "Attempting to create an instance of an abstract class directly will result in a TypeError. The purpose of abstract classes is to provide a blueprint for subclasses to inherit and implement, rather than being instantiated themselves.\n",
    "\n",
    "Here's an example to illustrate this:"
   ]
  },
  {
   "cell_type": "code",
   "execution_count": 16,
   "id": "9734eb45",
   "metadata": {},
   "outputs": [
    {
     "name": "stdout",
     "output_type": "stream",
     "text": [
      "TypeError: Can't instantiate abstract class Shape with abstract method area\n"
     ]
    }
   ],
   "source": [
    "from abc import ABC, abstractmethod\n",
    "\n",
    "class Shape(ABC):  # Abstract base class\n",
    "    @abstractmethod\n",
    "    def area(self):\n",
    "        pass\n",
    "\n",
    "class Circle(Shape):  # Concrete subclass\n",
    "    def __init__(self, radius):\n",
    "        self.radius = radius\n",
    "\n",
    "    def area(self):  # Concrete implementation of abstract method\n",
    "        return 3.14 * self.radius ** 2\n",
    "\n",
    "# Attempting to create an instance of Shape (abstract class)\n",
    "try:\n",
    "    shape = Shape()  # This will raise a TypeError\n",
    "except TypeError as e:\n",
    "    print(\"TypeError:\", e)\n"
   ]
  },
  {
   "cell_type": "code",
   "execution_count": null,
   "id": "c6413441",
   "metadata": {},
   "outputs": [],
   "source": []
  },
  {
   "cell_type": "code",
   "execution_count": null,
   "id": "2bd1056e",
   "metadata": {},
   "outputs": [],
   "source": []
  }
 ],
 "metadata": {
  "kernelspec": {
   "display_name": "Python 3 (ipykernel)",
   "language": "python",
   "name": "python3"
  },
  "language_info": {
   "codemirror_mode": {
    "name": "ipython",
    "version": 3
   },
   "file_extension": ".py",
   "mimetype": "text/x-python",
   "name": "python",
   "nbconvert_exporter": "python",
   "pygments_lexer": "ipython3",
   "version": "3.11.4"
  }
 },
 "nbformat": 4,
 "nbformat_minor": 5
}
