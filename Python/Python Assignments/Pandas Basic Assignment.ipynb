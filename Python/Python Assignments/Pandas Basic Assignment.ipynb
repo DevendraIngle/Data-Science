{
 "cells": [
  {
   "cell_type": "markdown",
   "id": "bcf6d8d7",
   "metadata": {},
   "source": [
    "Q1. Create a Pandas Series that contains the following data: 4, 8, 15, 16, 23, and 42. Then, print the series."
   ]
  },
  {
   "cell_type": "code",
   "execution_count": 4,
   "id": "adc8aade",
   "metadata": {},
   "outputs": [
    {
     "name": "stdout",
     "output_type": "stream",
     "text": [
      "0     4\n",
      "1     8\n",
      "2    15\n",
      "3    16\n",
      "4    23\n",
      "5    42\n",
      "dtype: int64\n"
     ]
    }
   ],
   "source": [
    "import pandas as pd\n",
    "\n",
    "# Create a Pandas Series\n",
    "\n",
    "data = [4, 8, 15, 16, 23,42]\n",
    "\n",
    "# Convert the list to a Pandas Series\n",
    "\n",
    "series = pd.Series(data)\n",
    "\n",
    "print(series)"
   ]
  },
  {
   "cell_type": "markdown",
   "id": "65d864ed",
   "metadata": {},
   "source": [
    "Q2. Create a variable of list type containing 10 elements in it, and apply pandas.Series function on the\n",
    "variable print it."
   ]
  },
  {
   "cell_type": "code",
   "execution_count": 5,
   "id": "e4c8f7ff",
   "metadata": {},
   "outputs": [
    {
     "name": "stdout",
     "output_type": "stream",
     "text": [
      "0     1\n",
      "1     2\n",
      "2     3\n",
      "3     4\n",
      "4     5\n",
      "5     6\n",
      "6     7\n",
      "7     8\n",
      "8     9\n",
      "9    10\n",
      "dtype: int64\n"
     ]
    }
   ],
   "source": [
    "import pandas as pd\n",
    "\n",
    "# Creating a list with 10 elements\n",
    "\n",
    "data_list = [1, 2, 3, 4, 5, 6, 7, 8, 9, 10]\n",
    "\n",
    "# Convert the list to a Pandas Series\n",
    "series = pd.Series(data_list)\n",
    "\n",
    "print(series)\n"
   ]
  },
  {
   "cell_type": "markdown",
   "id": "553a4fe7",
   "metadata": {},
   "source": [
    "Q3. Create a Pandas DataFrame that contains the following data:"
   ]
  },
  {
   "cell_type": "code",
   "execution_count": 10,
   "id": "2ebf1b51",
   "metadata": {},
   "outputs": [
    {
     "name": "stdout",
     "output_type": "stream",
     "text": [
      "     Name  Age  Gender\n",
      "0   Alice   25  Female\n",
      "1     Bob   30    Male\n",
      "2  Claire   27  Female\n"
     ]
    }
   ],
   "source": [
    "import pandas as pd\n",
    "\n",
    "data = {\"Name\":['Alice','Bob','Claire'],\n",
    "       \"Age\":[25,30,27],\n",
    "       \"Gender\":['Female','Male','Female']}\n",
    "df = pd.DataFrame(data)\n",
    "print(df)"
   ]
  },
  {
   "cell_type": "markdown",
   "id": "f64e17df",
   "metadata": {},
   "source": [
    "Q4. What is ‘DataFrame’ in pandas and how is it different from pandas.series? Explain with an example."
   ]
  },
  {
   "cell_type": "markdown",
   "id": "07f9e597",
   "metadata": {},
   "source": [
    "In Pandas, a DataFrame is a two-dimensional, size-mutable, and heterogeneous tabular data structure. It is similar to a spreadsheet or SQL table, where data is organized into rows and columns. Each column in a DataFrame can have a different data type (e.g., integer, float, string), and it is capable of storing and handling large datasets efficiently. DataFrames are the primary data structure used for data manipulation and analysis in Pandas.\n",
    "\n",
    "On the other hand, a Pandas Series is a one-dimensional labeled array capable of holding data of any data type (e.g., integer, float, string, etc.). It can be thought of as a single column of data from a DataFrame. Each element in a Series is indexed, and you can access elements by their index. Series provide functionality similar to NumPy arrays but with additional features like index alignment and handling missing data\n",
    "\n",
    "**DataFrame:**\n",
    "What is it?: Think of a DataFrame as a table, similar to what you might see in Excel or a SQL database. It's a two-dimensional data structure where data is organized into rows and columns.\n",
    "\n",
    "Example: Suppose you have information about people, including their names, ages, and addresses. You can put this data into a DataFrame, where each row represents a person, and each column represents a different piece of information (e.g., name, age, address).\n",
    "\n",
    "**Series:**\n",
    "What is it?: A Series is like a single column of data from a DataFrame. It's a one-dimensional labeled array that can hold any type of data (e.g., numbers, strings). Each element in a Series has an index, which allows you to access the data by its position.\n"
   ]
  },
  {
   "cell_type": "markdown",
   "id": "484e69ee",
   "metadata": {},
   "source": [
    "Q5. What are some common functions you can use to manipulate data in a Pandas DataFrame? Can\n",
    "you give an example of when you might use one of these functions?"
   ]
  },
  {
   "cell_type": "markdown",
   "id": "2d321245",
   "metadata": {},
   "source": [
    "Pandas provides a wide range of functions for manipulating data in a DataFrame. Some common functions include:\n",
    "\n",
    "1. **head()**: Returns the first n rows of the DataFrame.\n",
    "2. **tail()**: Returns the last n rows of the DataFrame.\n",
    "3. **info()**: Provides a concise summary of the DataFrame, including data types and missing values.\n",
    "4. **describe()**: Generates descriptive statistics for numerical columns in the DataFrame.\n",
    "5. **shape**: Returns a tuple representing the dimensions of the DataFrame (rows, columns).\n",
    "6. **loc[]**: Accesses a group of rows and columns by label(s) or a boolean array.\n",
    "7. **iloc[]**: Accesses a group of rows and columns by integer position(s).\n",
    "8. **drop()**: Drops specified rows or columns from the DataFrame.\n",
    "9. **fillna()**: Fills missing values in the DataFrame with specified values.\n",
    "10. **drop_duplicates()**: Removes duplicate rows from the DataFrame.\n",
    "11. **groupby()**: Groups data in the DataFrame by specified columns.\n",
    "12. **merge()**: Merges two DataFrames based on a common column.\n",
    "13. **sort_values()**: Sorts the DataFrame by specified columns.\n",
    "14. **apply()**: Applies a function along an axis of the DataFrame.\n",
    "15. **pivot_table()**: Creates a pivot table from the DataFrame.\n",
    "\n"
   ]
  },
  {
   "cell_type": "code",
   "execution_count": 12,
   "id": "0020fad9",
   "metadata": {},
   "outputs": [
    {
     "name": "stdout",
     "output_type": "stream",
     "text": [
      "DataFrame with duplicates:\n",
      "      Name  Age        Address\n",
      "0    Alice   25     123 Street\n",
      "1      Bob   30     456 Avenue\n",
      "2    Alice   25     123 Street\n",
      "3  Charlie   35  789 Boulevard\n",
      "4      Bob   30     456 Avenue\n",
      "<class 'pandas.core.frame.DataFrame'>\n",
      "RangeIndex: 5 entries, 0 to 4\n",
      "Data columns (total 3 columns):\n",
      " #   Column   Non-Null Count  Dtype \n",
      "---  ------   --------------  ----- \n",
      " 0   Name     5 non-null      object\n",
      " 1   Age      5 non-null      int64 \n",
      " 2   Address  5 non-null      object\n",
      "dtypes: int64(1), object(2)\n",
      "memory usage: 252.0+ bytes\n",
      "\n",
      "DataFrame without duplicates:\n",
      "      Name  Age        Address\n",
      "0    Alice   25     123 Street\n",
      "1      Bob   30     456 Avenue\n",
      "3  Charlie   35  789 Boulevard\n"
     ]
    }
   ],
   "source": [
    "import pandas as pd\n",
    "\n",
    "# Creating a DataFrame with duplicate rows\n",
    "data = {\n",
    "    'Name': ['Alice', 'Bob', 'Alice', 'Charlie', 'Bob'],\n",
    "    'Age': [25, 30, 25, 35, 30],\n",
    "    'Address': ['123 Street', '456 Avenue', '123 Street', '789 Boulevard', '456 Avenue']\n",
    "}\n",
    "df = pd.DataFrame(data)\n",
    "\n",
    "print(\"DataFrame with duplicates:\")\n",
    "print(df)\n",
    "\n",
    "# Remove duplicate rows based on all columns\n",
    "df_unique = df.drop_duplicates()\n",
    "\n",
    "print(\"\\nDataFrame without duplicates:\")\n",
    "print(df_unique)\n"
   ]
  },
  {
   "cell_type": "markdown",
   "id": "9f5996b2",
   "metadata": {},
   "source": [
    "Q6. Which of the following is mutable in nature Series, DataFrame, Panel?"
   ]
  },
  {
   "cell_type": "markdown",
   "id": "ff32d89d",
   "metadata": {},
   "source": [
    "Among Series, DataFrame, and Panel, only DataFrame is mutable in nature.\n",
    "\n",
    "**Series:** Series is a one-dimensional labeled array, and it is immutable. Once created, you cannot modify the elements of a Series directly. However, you can perform operations that return a new Series with modified data.\n",
    "\n",
    "**DataFrame:** DataFrame is a two-dimensional labeled data structure with columns of potentially different types. It is mutable, meaning you can modify the data, add or remove rows and columns, and perform various operations directly on the DataFrame object.\n",
    "\n",
    "**Panel:** Panel is a three-dimensional labeled data structure. It is also mutable, allowing you to modify the data, add or remove items, and perform operations directly on the Panel object. However, Panel is deprecated in recent versions of Pandas in favor of MultiIndex DataFrame"
   ]
  },
  {
   "cell_type": "markdown",
   "id": "af5d510f",
   "metadata": {},
   "source": [
    "Q7. Create a DataFrame using multiple Series. Explain with an example."
   ]
  },
  {
   "cell_type": "code",
   "execution_count": 15,
   "id": "dbeb89ff",
   "metadata": {},
   "outputs": [
    {
     "name": "stdout",
     "output_type": "stream",
     "text": [
      "     Name  Age         Address\n",
      "0  Ramesh   25      123 Street\n",
      "1    Rina   30      456 Avenue\n",
      "2    Ravi   35  789 vijaynagar\n"
     ]
    }
   ],
   "source": [
    "import pandas as pd\n",
    "\n",
    "# Creating multiple Series\n",
    "names = pd.Series(['Ramesh', 'Rina', 'Ravi'])\n",
    "ages = pd.Series([25, 30, 35])\n",
    "addresses = pd.Series(['123 Street', '456 Avenue', '789 vijaynagar'])\n",
    "\n",
    "data = {'Name': names, 'Age': ages, 'Address': addresses}\n",
    "df = pd.DataFrame(data)\n",
    "\n",
    "# Printing the DataFrame\n",
    "print(df)\n"
   ]
  },
  {
   "cell_type": "code",
   "execution_count": null,
   "id": "c167bd2b",
   "metadata": {},
   "outputs": [],
   "source": []
  }
 ],
 "metadata": {
  "kernelspec": {
   "display_name": "Python 3 (ipykernel)",
   "language": "python",
   "name": "python3"
  },
  "language_info": {
   "codemirror_mode": {
    "name": "ipython",
    "version": 3
   },
   "file_extension": ".py",
   "mimetype": "text/x-python",
   "name": "python",
   "nbconvert_exporter": "python",
   "pygments_lexer": "ipython3",
   "version": "3.11.4"
  }
 },
 "nbformat": 4,
 "nbformat_minor": 5
}
