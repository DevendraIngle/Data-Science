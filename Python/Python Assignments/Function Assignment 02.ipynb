{
 "cells": [
  {
   "cell_type": "markdown",
   "id": "a45b6c4e",
   "metadata": {},
   "source": [
    "Q1. Create a python program to sort the given list of tuples based on integer value using a\n",
    "lambda function."
   ]
  },
  {
   "cell_type": "code",
   "execution_count": 1,
   "id": "8227691f",
   "metadata": {},
   "outputs": [
    {
     "name": "stdout",
     "output_type": "stream",
     "text": [
      "Sorted list of tuples based on integer value:\n",
      "[('Virat Kohli', 24936), ('Jack Kallis', 25534), ('Ricky Ponting', 27483), ('Sachin Tendulkar', 34357)]\n"
     ]
    }
   ],
   "source": [
    "# Given list of tuples\n",
    "list_of_tuples = [('Sachin Tendulkar', 34357), ('Ricky Ponting', 27483), ('Jack Kallis', 25534), ('Virat Kohli', 24936)]\n",
    "\n",
    "# Sorting the list of tuples based on the integer value using a lambda function\n",
    "sorted_list = sorted(list_of_tuples, key=lambda x: x[1])\n",
    "\n",
    "# Printing the sorted list\n",
    "print(\"Sorted list of tuples based on integer value:\")\n",
    "print(sorted_list)\n"
   ]
  },
  {
   "cell_type": "markdown",
   "id": "3261ec75",
   "metadata": {},
   "source": [
    "Q2. Write a Python Program to find the squares of all the numbers in the given list of integers using\n",
    "lambda and map functions.\n",
    "[1, 2, 3, 4, 5, 6, 7, 8, 9, 10]"
   ]
  },
  {
   "cell_type": "code",
   "execution_count": 2,
   "id": "0721626a",
   "metadata": {},
   "outputs": [
    {
     "name": "stdout",
     "output_type": "stream",
     "text": [
      "Squares of all numbers in the list:\n",
      "[1, 4, 9, 16, 25, 36, 49, 64, 81, 100]\n"
     ]
    }
   ],
   "source": [
    "# Given list of integers\n",
    "numbers = [1, 2, 3, 4, 5, 6, 7, 8, 9, 10]\n",
    "\n",
    "# Using lambda function with map to find squares of all numbers\n",
    "squares = list(map(lambda x: x**2, numbers))\n",
    "\n",
    "# Printing the squares\n",
    "print(\"Squares of all numbers in the list:\")\n",
    "print(squares)"
   ]
  },
  {
   "cell_type": "markdown",
   "id": "75661df5",
   "metadata": {},
   "source": [
    "Q3. Write a python program to convert the given list of integers into a tuple of strings. Use map and\n",
    "lambda functions\n",
    "Given String: [1, 2, 3, 4, 5, 6, 7, 8, 9, 10]\n",
    "Expected output: ('1', '2', '3', '4', '5', '6', '7', '8', '9', '10')"
   ]
  },
  {
   "cell_type": "code",
   "execution_count": 3,
   "id": "29f5c102",
   "metadata": {},
   "outputs": [
    {
     "name": "stdout",
     "output_type": "stream",
     "text": [
      "Tuple of strings:\n",
      "('1', '2', '3', '4', '5', '6', '7', '8', '9', '10')\n"
     ]
    }
   ],
   "source": [
    "# Given list of integers\n",
    "numbers = [1, 2, 3, 4, 5, 6, 7, 8, 9, 10]\n",
    "\n",
    "# Using map function with lambda to convert integers to strings\n",
    "tuple_of_strings = tuple(map(lambda x: str(x), numbers))\n",
    "\n",
    "# Printing the tuple of strings\n",
    "print(\"Tuple of strings:\")\n",
    "print(tuple_of_strings)\n"
   ]
  },
  {
   "cell_type": "markdown",
   "id": "ca375c09",
   "metadata": {},
   "source": [
    "#Q4. Write a python program using reduce function to compute the product of a list containing numbers\n",
    "from 1 to 25."
   ]
  },
  {
   "cell_type": "code",
   "execution_count": 4,
   "id": "fb10399c",
   "metadata": {},
   "outputs": [
    {
     "name": "stdout",
     "output_type": "stream",
     "text": [
      "Product of numbers from 1 to 25:\n",
      "15511210043330985984000000\n"
     ]
    }
   ],
   "source": [
    "from functools import reduce\n",
    "\n",
    "# Function to compute the product of two numbers\n",
    "def multiply(x, y):\n",
    "    return x * y\n",
    "\n",
    "# List containing numbers from 1 to 25\n",
    "numbers = list(range(1, 26))\n",
    "\n",
    "# Compute the product of the list using reduce function\n",
    "product = reduce(multiply, numbers)\n",
    "\n",
    "# Printing the product\n",
    "print(\"Product of numbers from 1 to 25:\")\n",
    "print(product)\n"
   ]
  },
  {
   "cell_type": "markdown",
   "id": "295c2a27",
   "metadata": {},
   "source": [
    "Q5. Write a python program to filter the numbers in a given list that are divisible by 2 and 3 using the\n",
    "filter function.\n",
    "[2, 3, 6, 9, 27, 60, 90, 120, 55, 46]"
   ]
  },
  {
   "cell_type": "code",
   "execution_count": 5,
   "id": "dd13f247",
   "metadata": {},
   "outputs": [
    {
     "name": "stdout",
     "output_type": "stream",
     "text": [
      "Numbers divisible by both 2 and 3:\n",
      "[6, 60, 90, 120]\n"
     ]
    }
   ],
   "source": [
    "# Given list of numbers\n",
    "numbers = [2, 3, 6, 9, 27, 60, 90, 120, 55, 46]\n",
    "\n",
    "# Filter function to get numbers divisible by both 2 and 3\n",
    "filtered_numbers = list(filter(lambda x: x % 2 == 0 and x % 3 == 0, numbers))\n",
    "\n",
    "# Printing the filtered numbers\n",
    "print(\"Numbers divisible by both 2 and 3:\")\n",
    "print(filtered_numbers)\n",
    "\n"
   ]
  },
  {
   "cell_type": "markdown",
   "id": "47776995",
   "metadata": {},
   "source": [
    "Q6. Write a python program to find palindromes in the given list of strings using lambda and filter\n",
    "function."
   ]
  },
  {
   "cell_type": "code",
   "execution_count": 6,
   "id": "68b119db",
   "metadata": {},
   "outputs": [
    {
     "name": "stdout",
     "output_type": "stream",
     "text": [
      "Palindromes in the list:\n",
      "['php', 'aba', 'radar', 'level']\n"
     ]
    }
   ],
   "source": [
    "# Given list of strings\n",
    "strings = ['python', 'php', 'aba', 'radar', 'level']\n",
    "\n",
    "# Function to check if a string is a palindrome\n",
    "is_palindrome = lambda s: s == s[::-1]\n",
    "\n",
    "# Filter function to get palindromes\n",
    "palindromes = list(filter(is_palindrome, strings))\n",
    "\n",
    "# Printing the palindromes\n",
    "print(\"Palindromes in the list:\")\n",
    "print(palindromes)\n"
   ]
  },
  {
   "cell_type": "code",
   "execution_count": null,
   "id": "9aeb1c6a",
   "metadata": {},
   "outputs": [],
   "source": []
  }
 ],
 "metadata": {
  "kernelspec": {
   "display_name": "Python 3 (ipykernel)",
   "language": "python",
   "name": "python3"
  },
  "language_info": {
   "codemirror_mode": {
    "name": "ipython",
    "version": 3
   },
   "file_extension": ".py",
   "mimetype": "text/x-python",
   "name": "python",
   "nbconvert_exporter": "python",
   "pygments_lexer": "ipython3",
   "version": "3.11.4"
  }
 },
 "nbformat": 4,
 "nbformat_minor": 5
}
