{
 "cells": [
  {
   "cell_type": "markdown",
   "id": "600aea39",
   "metadata": {},
   "source": [
    "Q1. Which keyword is used to create a function? Create a function to return a list of odd numbers in the\n",
    "range of 1 to 25."
   ]
  },
  {
   "cell_type": "markdown",
   "id": "f11d76ea",
   "metadata": {},
   "source": [
    "Ans : The keyword used to create a function in Python is \"def\"."
   ]
  },
  {
   "cell_type": "markdown",
   "id": "ca255129",
   "metadata": {},
   "source": [
    "Here's a function to return a list of odd numbers in the range of 1 to 25:"
   ]
  },
  {
   "cell_type": "code",
   "execution_count": 3,
   "id": "ab02d5cb",
   "metadata": {},
   "outputs": [],
   "source": [
    "def odd_numbers():\n",
    "    odd_list = [i for i in range(1,26) if i%2!=0 ]\n",
    "    return odd_list"
   ]
  },
  {
   "cell_type": "code",
   "execution_count": 4,
   "id": "fa8aba04",
   "metadata": {},
   "outputs": [
    {
     "data": {
      "text/plain": [
       "[1, 3, 5, 7, 9, 11, 13, 15, 17, 19, 21, 23, 25]"
      ]
     },
     "execution_count": 4,
     "metadata": {},
     "output_type": "execute_result"
    }
   ],
   "source": [
    "odd_numbers()"
   ]
  },
  {
   "cell_type": "markdown",
   "id": "d88dcc3b",
   "metadata": {},
   "source": [
    "Q2. Why *args and **kwargs is used in some functions? Create a function each for *args and **kwargs\n",
    "to demonstrate their use."
   ]
  },
  {
   "cell_type": "markdown",
   "id": "78b51119",
   "metadata": {},
   "source": [
    "*args and **kwargs are used in Python functions to accept a variable number of arguments.\n",
    "\n",
    "*args: It allows you to pass a variable number of positional arguments to a function. The *args parameter collects all the positional arguments passed to the function into a tuple.\n",
    "\n",
    "**kwargs: It allows you to pass a variable number of keyword arguments to a function. The **kwargs parameter collects all the keyword arguments passed to the function into a dictionary."
   ]
  },
  {
   "cell_type": "code",
   "execution_count": 2,
   "id": "588a1803",
   "metadata": {},
   "outputs": [
    {
     "name": "stdout",
     "output_type": "stream",
     "text": [
      "Sum of all numbers: 15\n"
     ]
    }
   ],
   "source": [
    "# Function using *args to accept a variable number of arguments\n",
    "def sum_all(*args):\n",
    "    total = 0\n",
    "    for num in args:\n",
    "        total += num\n",
    "    return total\n",
    "\n",
    "print(\"Sum of all numbers:\", sum_all(1, 2, 3, 4, 5))  # Output: Sum of all numbers: 15\n"
   ]
  },
  {
   "cell_type": "code",
   "execution_count": 3,
   "id": "b2a7a6a2",
   "metadata": {},
   "outputs": [
    {
     "name": "stdout",
     "output_type": "stream",
     "text": [
      "name: Raj\n",
      "age: 32\n",
      "city: Mumbai\n"
     ]
    }
   ],
   "source": [
    "# Function using **kwargs to accept a variable number of keyword arguments\n",
    "\n",
    "def display_info(**kwargs):\n",
    "    for key, value in kwargs.items():\n",
    "        print(f\"{key}: {value}\")\n",
    "\n",
    "display_info(name=\"Raj\", age=32, city=\"Mumbai\")  \n"
   ]
  },
  {
   "cell_type": "markdown",
   "id": "434c1d0b",
   "metadata": {},
   "source": [
    "Q3. What is an iterator in python? Name the method used to initialise the iterator object and the method\n",
    "used for iteration. Use these methods to print the first five elements of the given list [2, 4, 6, 8, 10, 12, 14,\n",
    "16, 18, 20]."
   ]
  },
  {
   "cell_type": "markdown",
   "id": "2936c421",
   "metadata": {},
   "source": [
    "In Python, an iterator is an object that allows traversal through a sequence of elements, one at a time. It implements two essential methods:\n",
    "\n",
    "1. __iter__(): This method initializes the iterator object. It returns the iterator object itself.\n",
    "\n",
    "2. __next__(): This method retrieves the next element from the iterator. If there are no more elements to return, it raises a StopIteration exception."
   ]
  },
  {
   "cell_type": "code",
   "execution_count": 4,
   "id": "42ae5ebe",
   "metadata": {},
   "outputs": [
    {
     "name": "stdout",
     "output_type": "stream",
     "text": [
      "2\n",
      "4\n",
      "6\n",
      "8\n",
      "10\n"
     ]
    }
   ],
   "source": [
    "my_list = [2, 4, 6, 8, 10, 12, 14, 16, 18, 20]\n",
    "\n",
    "# Initialize the iterator object\n",
    "my_iterator = iter(my_list)\n",
    "\n",
    "# Iterate over the first five elements using next() method\n",
    "for _ in range(5):\n",
    "    print(next(my_iterator))"
   ]
  },
  {
   "cell_type": "markdown",
   "id": "6469add8",
   "metadata": {},
   "source": [
    "Q4. What is a generator function in python? Why yield keyword is used? Give an example of a generator\n",
    "function."
   ]
  },
  {
   "cell_type": "markdown",
   "id": "b808caf8",
   "metadata": {},
   "source": [
    "In Python, a generator function is a special type of function that generates a sequence of values lazily. It produces values one at a time and only when requested, which makes it memory efficient and suitable for handling large datasets or infinite sequences. Generator functions are defined using the yield keyword instead of return.\n",
    "\n",
    "The yield keyword is used to temporarily suspend the function's execution and yield a value to the caller. When the function is called again, it resumes execution from where it left off, retaining its local state. This allows generator functions to generate values incrementally without storing the entire sequence in memory."
   ]
  },
  {
   "cell_type": "code",
   "execution_count": 5,
   "id": "e9dddf2b",
   "metadata": {},
   "outputs": [
    {
     "name": "stdout",
     "output_type": "stream",
     "text": [
      "0\n",
      "1\n",
      "1\n",
      "2\n",
      "3\n",
      "5\n",
      "8\n",
      "13\n",
      "21\n",
      "34\n"
     ]
    }
   ],
   "source": [
    "def fibonacci():\n",
    "    a, b = 0, 1\n",
    "    while True:\n",
    "        yield a\n",
    "        a, b = b, a + b\n",
    "\n",
    "# Using the generator function to generate Fibonacci numbers\n",
    "fib_gen = fibonacci()\n",
    "for _ in range(10):\n",
    "    print(next(fib_gen))\n"
   ]
  },
  {
   "cell_type": "code",
   "execution_count": null,
   "id": "0427a2db",
   "metadata": {},
   "outputs": [],
   "source": [
    "Q5. Create a generator function for prime numbers less than 1000. Use the next() method to print the\n",
    "first 20 prime numbers."
   ]
  },
  {
   "cell_type": "code",
   "execution_count": 6,
   "id": "16bc8c95",
   "metadata": {},
   "outputs": [
    {
     "name": "stdout",
     "output_type": "stream",
     "text": [
      "2\n",
      "3\n",
      "5\n",
      "7\n",
      "11\n",
      "13\n",
      "17\n",
      "19\n",
      "23\n",
      "29\n",
      "31\n",
      "37\n",
      "41\n",
      "43\n",
      "47\n",
      "53\n",
      "59\n",
      "61\n",
      "67\n",
      "71\n"
     ]
    }
   ],
   "source": [
    "def is_prime(n):\n",
    "  \n",
    "  #Check if a number is prime.\n",
    "  \n",
    "  if n <= 1:\n",
    "    return False\n",
    "  for i in range(2, int(n**0.5) + 1):\n",
    "    if n % i == 0:\n",
    "      return False\n",
    "  return True\n",
    "\n",
    "def prime_generator():\n",
    "  \n",
    "  #Generate prime numbers less than 1000.\n",
    "  \n",
    "  n = 2\n",
    "  while True:\n",
    "    if is_prime(n):\n",
    "      yield n\n",
    "    n += 1\n",
    "\n",
    "# Get the first 20 prime numbers\n",
    "\n",
    "prime_gen = prime_generator()\n",
    "for _ in range(20):\n",
    "  print(next(prime_gen))"
   ]
  },
  {
   "cell_type": "markdown",
   "id": "acf5f1c4",
   "metadata": {},
   "source": [
    "Q6. Write a python program to print the first 10 Fibonacci numbers using a while loop."
   ]
  },
  {
   "cell_type": "code",
   "execution_count": 7,
   "id": "6786e089",
   "metadata": {},
   "outputs": [
    {
     "name": "stdout",
     "output_type": "stream",
     "text": [
      "0 1 1 2 3 5 8 13 21 34 "
     ]
    }
   ],
   "source": [
    "# Initialize variables to store the first two Fibonacci numbers\n",
    "a, b = 0, 1\n",
    "\n",
    "# Counter to track the number of Fibonacci numbers printed\n",
    "count = 0\n",
    "\n",
    "# Loop to print the first 10 Fibonacci numbers\n",
    "while count < 10:\n",
    "    print(a, end=\" \")\n",
    "    # Calculate the next Fibonacci number\n",
    "    a, b = b, a + b\n",
    "    # Increment the counter\n",
    "    count += 1\n"
   ]
  },
  {
   "cell_type": "markdown",
   "id": "abe6dc40",
   "metadata": {},
   "source": [
    "Q7. Write a List Comprehension to iterate through the given string: ‘pwskills’.\n",
    "Expected output: ['p', 'w', 's', 'k', 'i', 'l', 'l', 's']"
   ]
  },
  {
   "cell_type": "code",
   "execution_count": 9,
   "id": "d1631d1a",
   "metadata": {},
   "outputs": [
    {
     "name": "stdout",
     "output_type": "stream",
     "text": [
      "['p', 'w', 's', 'k', 'i', 'l', 'l', 's']\n"
     ]
    }
   ],
   "source": [
    "# Given string\n",
    "string = 'pwskills'\n",
    "\n",
    "# List comprehension to iterate through the string and extract individual characters\n",
    "result = [char for char in string]\n",
    "\n",
    "# Printing the result\n",
    "print(result)\n"
   ]
  },
  {
   "cell_type": "markdown",
   "id": "219042fd",
   "metadata": {},
   "source": [
    "Q8. Write a python program to check whether a given number is Palindrome or not using a while loop."
   ]
  },
  {
   "cell_type": "code",
   "execution_count": 10,
   "id": "2a662f3b",
   "metadata": {},
   "outputs": [
    {
     "name": "stdout",
     "output_type": "stream",
     "text": [
      "Enter a number: 54242\n",
      "54242 is not a palindrome\n"
     ]
    }
   ],
   "source": [
    "def is_palindrome(num):\n",
    "  \n",
    "  if num <= 0:\n",
    "    return False  # Negative numbers are not palindromes\n",
    "\n",
    "  original_num = num\n",
    "  reversed_num = 0\n",
    "\n",
    "  while num > 0:\n",
    "    digit = num % 10\n",
    "    reversed_num = reversed_num * 10 + digit\n",
    "    num //= 10\n",
    "\n",
    "  return original_num == reversed_num\n",
    "\n",
    "# Get input from the user\n",
    "number = int(input(\"Enter a number: \"))\n",
    "\n",
    "# Check if the number is a palindrome\n",
    "if is_palindrome(number):\n",
    "  print(f\"{number} is a palindrome\")\n",
    "else:\n",
    "  print(f\"{number} is not a palindrome\")\n"
   ]
  },
  {
   "cell_type": "markdown",
   "id": "05cd7262",
   "metadata": {},
   "source": [
    "Q9. Write a code to print odd numbers from 1 to 100 using list comprehension.\n",
    "Note: Use a list comprehension to create a list from 1 to 100 and use another List comprehension to filter\n",
    "out odd numbers."
   ]
  },
  {
   "cell_type": "code",
   "execution_count": 12,
   "id": "b23325ce",
   "metadata": {},
   "outputs": [
    {
     "name": "stdout",
     "output_type": "stream",
     "text": [
      "[1, 3, 5, 7, 9, 11, 13, 15, 17, 19, 21, 23, 25, 27, 29, 31, 33, 35, 37, 39, 41, 43, 45, 47, 49, 51, 53, 55, 57, 59, 61, 63, 65, 67, 69, 71, 73, 75, 77, 79, 81, 83, 85, 87, 89, 91, 93, 95, 97, 99]\n"
     ]
    }
   ],
   "source": [
    "# Create a list of numbers from 1 to 100\n",
    "numbers = [num for num in range(1, 101)]\n",
    "\n",
    "# Filter out odd numbers using another list comprehension\n",
    "odd_numbers = [num for num in numbers if num % 2 != 0]\n",
    "\n",
    "# Print the list of odd numbers\n",
    "print(odd_numbers)\n"
   ]
  },
  {
   "cell_type": "code",
   "execution_count": null,
   "id": "65b45428",
   "metadata": {},
   "outputs": [],
   "source": []
  }
 ],
 "metadata": {
  "kernelspec": {
   "display_name": "Python 3 (ipykernel)",
   "language": "python",
   "name": "python3"
  },
  "language_info": {
   "codemirror_mode": {
    "name": "ipython",
    "version": 3
   },
   "file_extension": ".py",
   "mimetype": "text/x-python",
   "name": "python",
   "nbconvert_exporter": "python",
   "pygments_lexer": "ipython3",
   "version": "3.11.4"
  }
 },
 "nbformat": 4,
 "nbformat_minor": 5
}
