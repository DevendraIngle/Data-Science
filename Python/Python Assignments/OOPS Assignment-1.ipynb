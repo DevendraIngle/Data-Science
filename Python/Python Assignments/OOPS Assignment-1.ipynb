{
 "cells": [
  {
   "cell_type": "markdown",
   "id": "637abb45",
   "metadata": {},
   "source": [
    "Q1. Explain Class and Object with respect to Object-Oriented Programming. Give a suitable example."
   ]
  },
  {
   "cell_type": "markdown",
   "id": "1c9468ea",
   "metadata": {},
   "source": [
    "Class: \n",
    "\n",
    "In programming, a class is a blueprint or template for creating objects. It defines the attributes (data) and methods (functions) that will be associated with objects created from that class. Classes provide a way to organize and structure code in a modular and reusable manner, promoting the principles of encapsulation, inheritance, and polymorphism, which are fundamental concepts of object-oriented programming (OOP).\n",
    "\n",
    "Object:\n",
    "\n",
    "In object-oriented programming (OOP), an object is a fundamental concept that represents a specific instance of a class. Objects are concrete entities that encapsulate data (attributes) and behavior (methods). They are created from classes, which serve as blueprints or templates for objects."
   ]
  },
  {
   "cell_type": "code",
   "execution_count": 29,
   "id": "b466e07b",
   "metadata": {},
   "outputs": [
    {
     "name": "stdout",
     "output_type": "stream",
     "text": [
      "the car company is : toyota\n",
      "the car model is : corolla\n",
      "the car year is : 2000\n",
      "the car average is : 50\n",
      "\n"
     ]
    },
    {
     "data": {
      "text/plain": [
       "'Engine is starting'"
      ]
     },
     "execution_count": 29,
     "metadata": {},
     "output_type": "execute_result"
    }
   ],
   "source": [
    "class Car:\n",
    "    def __init__(self,company,model,year,average):\n",
    "        self.company = company\n",
    "        self.model= model\n",
    "        self.year= year\n",
    "        self.average = average\n",
    "        \n",
    "    def display_info(self):\n",
    "        print (f\"the car company is : {self.company}\\n\"\n",
    "               f\"the car model is : {self.model}\\n\"\n",
    "               f\"the car year is : {self.year}\\n\"\n",
    "               f\"the car average is : {self.average}\\n\")\n",
    "    def engine_start(self):\n",
    "        return f\"Engine is starting\"\n",
    "                \n",
    "                \n",
    "                \n",
    "mycar = Car(\"toyota\",\"corolla\",2000,50)\n",
    "mycar.display_info()\n",
    "yourcar=Car(\"audi\",\"ifly\",1999,49)\n",
    "yourcar.engine_start()\n",
    "\n",
    "\n"
   ]
  },
  {
   "cell_type": "markdown",
   "id": "60b7f9d4",
   "metadata": {},
   "source": [
    "Q2. Name the four pillars of OOPs."
   ]
  },
  {
   "cell_type": "markdown",
   "id": "6ffac45d",
   "metadata": {},
   "source": [
    "The four pillars of object-oriented programming (OOP) are:\n",
    "\n",
    "1.Encapsulation:\n",
    "Encapsulation is the bundling of data (attributes) and methods (functions) that operate on the data into a single unit called a class. It allows the data to be accessed and modified only through well-defined interfaces (methods), hiding the implementation details from the outside world. Encapsulation helps in achieving data hiding and modularity, making the code more maintainable and scalable.\n",
    "\n",
    "2.Abstraction:\n",
    "Abstraction is the process of hiding the complex implementation details and showing only the essential features of an object. It allows the user to focus on what an object does rather than how it does it. Abstraction is achieved through abstract classes and interfaces, which define a set of methods without providing their implementation. It helps in managing complexity, improving code readability, and promoting code reuse.\n",
    "\n",
    "3.Inheritance:\n",
    "Inheritance is the mechanism by which a class can inherit attributes and methods from another class, called the superclass or base class. The class that inherits from the superclass is called the subclass or derived class. Inheritance allows the subclass to reuse and extend the functionality of the superclass, promoting code reuse and modularity. It facilitates the creation of hierarchical relationships between classes and promotes polymorphism.\n",
    "\n",
    "4.Polymorphism:\n",
    "Polymorphism means the ability of objects to take on different forms or behaviors based on their context. In OOP, polymorphism allows objects of different classes to be treated as objects of a common superclass. It is achieved through method overriding and method overloading. Method overriding allows a subclass to provide a specific implementation of a method that is already defined in its superclass, while method overloading allows multiple methods with the same name but different parameters to coexist in a class. Polymorphism enables flexibility, extensibility, and code reuse.\n",
    "\n",
    "\n",
    "\n",
    "\n",
    "\n"
   ]
  },
  {
   "cell_type": "markdown",
   "id": "77faca5f",
   "metadata": {},
   "source": [
    "Q3. Explain why the __init__() function is used. Give a suitable example."
   ]
  },
  {
   "cell_type": "markdown",
   "id": "da5586b0",
   "metadata": {},
   "source": [
    "The __init__() function in Python is a special method used for initializing newly created objects. It is called automatically when a new instance of a class is created. The primary purpose of the __init__() method is to initialize the attributes (properties) of the object to their initial values.\n",
    "\n",
    "**Purpose of __init__() method**:\n",
    "\n",
    "1 Initializing attributes:\n",
    "The __init__() method allows you to initialize the attributes of an object to specific values when it is created. This ensures that the object starts with a well-defined state.\n",
    "\n",
    "2 Parameterized initialization:\n",
    "You can define the __init__() method to accept parameters, allowing you to specify initial attribute values when creating an object. This enables customization and flexibility in object initialization.\n",
    "\n",
    "3 Automatic invocation:\n",
    "The __init__() method is automatically called when a new instance of a class is created using the class constructor. It ensures that the initialization logic is executed without the need for explicit invocation."
   ]
  },
  {
   "cell_type": "code",
   "execution_count": 30,
   "id": "e6a0febe",
   "metadata": {},
   "outputs": [
    {
     "name": "stdout",
     "output_type": "stream",
     "text": [
      "the car company is : toyota\n",
      "the car model is : corolla\n",
      "the car year is : 2000\n",
      "the car average is : 50\n",
      "\n"
     ]
    }
   ],
   "source": [
    "class Car:\n",
    "    def __init__(self,company,model,year,average):\n",
    "        self.company = company\n",
    "        self.model= model\n",
    "        self.year= year\n",
    "        self.average = average\n",
    "        \n",
    "    def display_info(self):\n",
    "        print (f\"the car company is : {self.company}\\n\"\n",
    "               f\"the car model is : {self.model}\\n\"\n",
    "               f\"the car year is : {self.year}\\n\"\n",
    "               f\"the car average is : {self.average}\\n\")\n",
    "    def engine_start(self):\n",
    "        return f\"Engine is starting\"\n",
    "                \n",
    "                \n",
    "                \n",
    "mycar = Car(\"toyota\",\"corolla\",2000,50)\n",
    "mycar.display_info()\n",
    "\n",
    "\n"
   ]
  },
  {
   "cell_type": "markdown",
   "id": "49e304d6",
   "metadata": {},
   "source": [
    "Q4. Why self is used in OOPs?"
   ]
  },
  {
   "cell_type": "markdown",
   "id": "71ea6ea8",
   "metadata": {},
   "source": [
    "\n",
    "In object-oriented programming (OOP) in Python, self is a convention used to refer to the instance of the class within the class itself. It is a reference to the current object on which a method is being invoked. The use of self allows you to access attributes and methods of the object within the class definition.\n",
    "\n",
    "**Purpose of self:**\n",
    "\n",
    "1. Accessing attributes and methods:\n",
    "Within the class methods, self is used to access the attributes and methods of the current object. It allows you to refer to the object's data and behavior without ambiguity.\n",
    "\n",
    "2. Differentiating instance variables from local variables:\n",
    "By using self, you can differentiate instance variables (belonging to the object) from local variables (defined within the method). This helps in avoiding naming conflicts and ensures that the correct variables are accessed.\n",
    "\n",
    "3. Passing the object as the first parameter:\n",
    "When a method is called on an object (object.method()), Python automatically passes the object as the first parameter to the method. By convention, this parameter is named self, although you can choose any name."
   ]
  },
  {
   "cell_type": "code",
   "execution_count": 31,
   "id": "8327c225",
   "metadata": {},
   "outputs": [
    {
     "name": "stdout",
     "output_type": "stream",
     "text": [
      "1\n"
     ]
    }
   ],
   "source": [
    "class Myclass:\n",
    "    def __init__(self,value):\n",
    "        self.value = value\n",
    "    def display_vaule(self):\n",
    "        print(self.value)\n",
    "obj = Myclass(1)\n",
    "obj.display_vaule()"
   ]
  },
  {
   "cell_type": "markdown",
   "id": "6f3cd170",
   "metadata": {},
   "source": [
    "Q5. What is inheritance? Give an example for each type of inheritance."
   ]
  },
  {
   "cell_type": "markdown",
   "id": "7c1eb085",
   "metadata": {},
   "source": [
    "Inheritance is a fundamental concept in object-oriented programming (OOP) where a new class (subclass) is created by inheriting properties and behaviors (attributes and methods) from an existing class (superclass). The subclass can then extend or modify the functionality of the superclass while inheriting its attributes and methods. Inheritance promotes code reuse, modularity, and extensibility.\n",
    "\n",
    "Example of Inheritance:\n",
    "1. Single Inheritance:\n",
    "Single inheritance involves inheriting from only one superclass."
   ]
  },
  {
   "cell_type": "code",
   "execution_count": 33,
   "id": "cefd58ed",
   "metadata": {},
   "outputs": [
    {
     "name": "stdout",
     "output_type": "stream",
     "text": [
      "Animal speaks\n",
      "Dog barks\n"
     ]
    }
   ],
   "source": [
    "class Animal:\n",
    "    def speak(self):\n",
    "        print(\"Animal speaks\")\n",
    "class Dog(Animal):\n",
    "    def bark(self):\n",
    "        print(\"Dog barks\")\n",
    "        \n",
    "my_dog = Dog()\n",
    "my_dog.speak()\n",
    "my_dog.bark()"
   ]
  },
  {
   "cell_type": "markdown",
   "id": "c69b8dfc",
   "metadata": {},
   "source": [
    "2. Multilevel Inheritance:\n",
    "Multilevel inheritance involves inheriting from a superclass, and then creating a subclass that itself becomes a superclass for another subclass."
   ]
  },
  {
   "cell_type": "code",
   "execution_count": 35,
   "id": "9782d702",
   "metadata": {},
   "outputs": [
    {
     "name": "stdout",
     "output_type": "stream",
     "text": [
      "Animal speaks\n",
      "Dog barks\n",
      "Brown\n"
     ]
    }
   ],
   "source": [
    "class Animal:\n",
    "    def speak(self):\n",
    "        print(\"Animal speaks\")\n",
    "class Dog(Animal):\n",
    "    def bark(self):\n",
    "        print(\"Dog barks\")\n",
    "class Labradog(Dog):\n",
    "    def colour(self):\n",
    "        print(\"Brown\")\n",
    "        \n",
    "Labra_dog1 = Labradog()\n",
    "Labra_dog1.speak()\n",
    "Labra_dog1.bark()\n",
    "Labra_dog1.colour()"
   ]
  },
  {
   "cell_type": "markdown",
   "id": "507fd547",
   "metadata": {},
   "source": [
    "3. Hierarchical Inheritance:\n",
    "Hierarchical inheritance involves multiple subclasses inheriting from the same superclass."
   ]
  },
  {
   "cell_type": "code",
   "execution_count": 37,
   "id": "2bedae38",
   "metadata": {},
   "outputs": [
    {
     "name": "stdout",
     "output_type": "stream",
     "text": [
      "Animal speaks\n",
      "Dog barks\n",
      "Animal speaks\n",
      "Meow\n"
     ]
    }
   ],
   "source": [
    "class Animal:\n",
    "    def speak(self):\n",
    "        print(\"Animal speaks\")\n",
    "class Dog(Animal):\n",
    "    def bark(self):\n",
    "        print(\"Dog barks\")\n",
    "class Cat(Animal):\n",
    "    def meow(self):\n",
    "        print(\"Meow\")\n",
    "\n",
    "        \n",
    "dog1 = Dog()\n",
    "dog1.speak()\n",
    "dog1.bark()\n",
    "\n",
    "cat1 = Cat()\n",
    "cat1.speak()\n",
    "cat1.meow()"
   ]
  },
  {
   "cell_type": "markdown",
   "id": "10e40c9a",
   "metadata": {},
   "source": [
    "4. Multiple Inheritance:\n",
    "Multiple inheritance involves inheriting from more than one superclass. Note that Python supports multiple inheritance."
   ]
  },
  {
   "cell_type": "code",
   "execution_count": null,
   "id": "213027dc",
   "metadata": {},
   "outputs": [],
   "source": [
    "class Vehicle:\n",
    "    def move(self):\n",
    "        print(\"move\")\n",
    "class Animal:\n",
    "    def speak(self):\n",
    "        print(\"Animal speaks\")\n",
    "class Dog(Animal, Vehicle):\n",
    "    def bark(self):\n",
    "        print(\"Dog barks\")\n",
    "\n",
    "\n",
    "        \n",
    "dog1 = Dog()\n",
    "dog1.speak()\n",
    "dog1.bark()\n",
    "dog1.\n",
    "\n",
    "cat1 = Cat()\n",
    "cat1.speak()\n",
    "cat1.meow()"
   ]
  },
  {
   "cell_type": "code",
   "execution_count": null,
   "id": "e260be83",
   "metadata": {},
   "outputs": [],
   "source": []
  }
 ],
 "metadata": {
  "kernelspec": {
   "display_name": "Python 3 (ipykernel)",
   "language": "python",
   "name": "python3"
  },
  "language_info": {
   "codemirror_mode": {
    "name": "ipython",
    "version": 3
   },
   "file_extension": ".py",
   "mimetype": "text/x-python",
   "name": "python",
   "nbconvert_exporter": "python",
   "pygments_lexer": "ipython3",
   "version": "3.11.4"
  }
 },
 "nbformat": 4,
 "nbformat_minor": 5
}
