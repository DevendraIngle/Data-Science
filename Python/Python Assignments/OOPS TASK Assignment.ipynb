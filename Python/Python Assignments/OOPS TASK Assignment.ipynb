{
 "cells": [
  {
   "cell_type": "markdown",
   "id": "d7110a2b",
   "metadata": {},
   "source": [
    "Q1, Create a vehicle class with an init method having instance variables as name_of_vehicle, max_speed\n",
    "and average_of_vehicle."
   ]
  },
  {
   "cell_type": "code",
   "execution_count": 12,
   "id": "d7d44477",
   "metadata": {},
   "outputs": [
    {
     "name": "stdout",
     "output_type": "stream",
     "text": [
      "Name of vehicle Toyata\n",
      "Maximum speed of car 400Kmph\n",
      "Average of car 50Kmph\n"
     ]
    }
   ],
   "source": [
    "class Vehicle:\n",
    "    def __init__(self,name_of_vehicle,max_speed,average_of_vehicle):\n",
    "        self.name_of_vehicle = name_of_vehicle\n",
    "        self.max_speed = max_speed\n",
    "        self.average_of_vehicle = average_of_vehicle\n",
    "        \n",
    "my_car = Vehicle(\"Toyota\",\"400\",\"50\")\n",
    "\n",
    "print(f\"Name of vehicle {my_car.name_of_vehicle}\")\n",
    "print(f\"Maximum speed of car {my_car.max_speed}Kmph\")\n",
    "print(f\"Average of car {my_car.average_of_vehicle}Kmph\")"
   ]
  },
  {
   "cell_type": "markdown",
   "id": "a52b297b",
   "metadata": {},
   "source": [
    "Q2. Create a child class car from the vehicle class created in Que 1, which will inherit the vehicle class.\n",
    "Create a method named seating_capacity which takes capacity as an argument and returns the name of\n",
    "the vehicle and its seating capacity."
   ]
  },
  {
   "cell_type": "code",
   "execution_count": 26,
   "id": "95f78dc4",
   "metadata": {},
   "outputs": [
    {
     "name": "stdout",
     "output_type": "stream",
     "text": [
      "The Car Model is : Toyota\n",
      "And Seating Capacity Of Car is :5\n"
     ]
    }
   ],
   "source": [
    "class Vehicle:\n",
    "    def __init__(self,name_of_vehicle,max_speed,average_of_vehicle):\n",
    "        self.name_of_vehicle = name_of_vehicle\n",
    "        self.max_speed = max_speed\n",
    "        self.average_of_vehicle = average_of_vehicle\n",
    "class Car(Vehicle):\n",
    "    def Seating_Capacity(self,seat_capacity):\n",
    "        self.seat_capacity = seat_capacity\n",
    "        return (f\"The Car Model is : {self.name_of_vehicle}\\n\"\n",
    "                f\"And Seating Capacity Of Car is :{seat_capacity}\")\n",
    "        \n",
    "my_car = Car(\"Toyota\",\"400\",\"50\")\n",
    "print(my_car.Seating_Capacity(5))\n",
    "\n"
   ]
  },
  {
   "cell_type": "markdown",
   "id": "d2151e2a",
   "metadata": {},
   "source": [
    "Q3. What is multiple inheritance? Write a python code to demonstrate multiple inheritance."
   ]
  },
  {
   "cell_type": "markdown",
   "id": "2039ee80",
   "metadata": {},
   "source": [
    "Multiple inheritance is a feature of some object-oriented programming languages, including Python, where a class can inherit attributes and methods from more than one parent class. This means that a child class can have multiple direct parent classes.\n",
    "\n",
    "In multiple inheritance, a subclass can inherit from two or more parent classes, allowing it to access attributes and methods from all of its parent classes. This can lead to complex class hierarchies and increase code reusability when used appropriately. "
   ]
  },
  {
   "cell_type": "code",
   "execution_count": 33,
   "id": "250e58ca",
   "metadata": {},
   "outputs": [
    {
     "name": "stdout",
     "output_type": "stream",
     "text": [
      "Parent1 name is : George Cooper\n",
      "Parent2 name is : Marry Cooper \n",
      "Child name is : Sheldon Cooper\n"
     ]
    }
   ],
   "source": [
    "class Parent1:\n",
    "    def Father_Name(self):\n",
    "        self.name = \"George Cooper\"\n",
    "        return f\"Parent1 name is : {self.name}\"\n",
    "class Parent2:\n",
    "    def Mother_Name(self):\n",
    "        self.name = \"Marry Cooper \"\n",
    "        return f\"Parent2 name is : {self.name}\"\n",
    "class Child(Parent1,Parent2):\n",
    "    def Child_Name(self):\n",
    "        self.name = \"Sheldon Cooper\"\n",
    "        return f\"Child name is : {self.name}\"\n",
    "    \n",
    "Child_1 = Child()\n",
    "print(Child_1.Father_Name())\n",
    "print(Child_1.Mother_Name())\n",
    "print(Child_1.Child_Name())"
   ]
  },
  {
   "cell_type": "markdown",
   "id": "1ad2291f",
   "metadata": {},
   "source": [
    "Q4. What are getter and setter in python? Create a class and create a getter and a setter method in this\n",
    "class."
   ]
  },
  {
   "cell_type": "markdown",
   "id": "98dfb07b",
   "metadata": {},
   "source": [
    "In Python, getters and setters are methods used to access and modify the attributes (variables) of a class respectively, providing control over how these attributes are accessed and modified.\n",
    "\n",
    "A getter method retrieves the value of an attribute.\n",
    "A setter method modifies the value of an attribute."
   ]
  },
  {
   "cell_type": "code",
   "execution_count": 41,
   "id": "88adf749",
   "metadata": {},
   "outputs": [],
   "source": [
    "class Myclass:\n",
    "    def __init__(self):\n",
    "        self.__my_attribute = None\n",
    "    def get_my_attribute(self):\n",
    "        return self.__my_attribute\n",
    "    def set_my_atttribute(self,value):\n",
    "        self.__my_attribute = value\n",
    "        \n",
    "obj = Myclass()\n",
    "obj.__my_attribute  # this line throw an error that this is protected attribute and you can't access this attribute\n",
    "obj.set_my_atttribute(None) # this line we will able to set a value to the protected attribute.\n",
    "obj.get_my_attribute()      # this line is to display the protected attribute value.\n",
    "    "
   ]
  },
  {
   "cell_type": "markdown",
   "id": "a34f17bb",
   "metadata": {},
   "source": [
    "Q5.What is method overriding in python? Write a python code to demonstrate method overriding."
   ]
  },
  {
   "cell_type": "markdown",
   "id": "1ea63975",
   "metadata": {},
   "source": [
    "\n",
    "Method overriding in Python occurs when a subclass defines a method that already exists in its superclass. The method in the subclass overrides the behavior of the method in the superclass."
   ]
  },
  {
   "cell_type": "code",
   "execution_count": 59,
   "id": "4d717481",
   "metadata": {},
   "outputs": [
    {
     "name": "stdout",
     "output_type": "stream",
     "text": [
      "hello! from your parents\n",
      "hello! from your child\n"
     ]
    }
   ],
   "source": [
    "class Parents:\n",
    "    def greet(self):\n",
    "        print(\"hello! from your parents\")\n",
    "    \n",
    "class Child(Parents):\n",
    "    \n",
    "    def greet(self):\n",
    "        print(\"hello! from your child\")\n",
    "    \n",
    "objchild = Child()\n",
    "\n",
    "objparent = Parents()\n",
    "\n",
    "objparent.greet()\n",
    "\n",
    "objchild.greet()"
   ]
  },
  {
   "cell_type": "markdown",
   "id": "27251b3a",
   "metadata": {},
   "source": [
    "And if you want access super class greet function in sub class you can use super() for this "
   ]
  },
  {
   "cell_type": "code",
   "execution_count": 61,
   "id": "e8da4789",
   "metadata": {},
   "outputs": [
    {
     "name": "stdout",
     "output_type": "stream",
     "text": [
      "hello! from your parents\n"
     ]
    }
   ],
   "source": [
    "class Parents:\n",
    "    def greet(self):\n",
    "        print(\"hello! from your parents\")\n",
    "    \n",
    "class Child(Parents):\n",
    "    \n",
    "    def greet(self):\n",
    "        super().greet()\n",
    "        print(\"hello! from your child\")\n",
    "    \n",
    "objchild = Child()\n",
    "\n",
    "# objparent = Parents()\n",
    "\n",
    "# objparent.greet()\n",
    "\n",
    "objchild.greet()"
   ]
  },
  {
   "cell_type": "code",
   "execution_count": null,
   "id": "0f766b21",
   "metadata": {},
   "outputs": [],
   "source": []
  }
 ],
 "metadata": {
  "kernelspec": {
   "display_name": "Python 3 (ipykernel)",
   "language": "python",
   "name": "python3"
  },
  "language_info": {
   "codemirror_mode": {
    "name": "ipython",
    "version": 3
   },
   "file_extension": ".py",
   "mimetype": "text/x-python",
   "name": "python",
   "nbconvert_exporter": "python",
   "pygments_lexer": "ipython3",
   "version": "3.11.4"
  }
 },
 "nbformat": 4,
 "nbformat_minor": 5
}
