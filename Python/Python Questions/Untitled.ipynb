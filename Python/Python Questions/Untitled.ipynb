{
 "cells": [
  {
   "cell_type": "markdown",
   "id": "95da1451",
   "metadata": {},
   "source": [
    "Q1. Write a Python program that defines a function called \"add_numbers\" that takes two\n",
    "arguments (i.e.,\n",
    "numbers) and returns their sum. Within the function, add the two numbers together and return\n",
    "the result\n",
    "using the return statement. Call the function with the values 5 and 6, and print out the returned\n",
    "result.\n",
    "This will result in the addition of 5 and 6, with the output of the program being the sum of these\n",
    "two\n",
    "number"
   ]
  },
  {
   "cell_type": "code",
   "execution_count": 1,
   "id": "e11fe9b7",
   "metadata": {},
   "outputs": [
    {
     "name": "stdout",
     "output_type": "stream",
     "text": [
      "The sum of 5 and 6 is: 11\n"
     ]
    }
   ],
   "source": [
    "# Define the add_numbers function\n",
    "def add_numbers(a, b):\n",
    "    # Add the two numbers together\n",
    "    result = a + b\n",
    "    # Return the result\n",
    "    return result\n",
    "\n",
    "# Call the add_numbers function with arguments 5 and 6\n",
    "sum_result = add_numbers(5, 6)\n",
    "\n",
    "# Print the result returned by the function\n",
    "print(\"The sum of 5 and 6 is:\", sum_result)\n"
   ]
  },
  {
   "cell_type": "markdown",
   "id": "811fd706",
   "metadata": {},
   "source": [
    "Q2. Write a Python program that calculates the square root of a given number using a built-in\n",
    "function.\n",
    "Specifically, the program should take an integer or float input from the user, calculate its square\n",
    "root\n",
    "using the 'sqrt()' function from the 'math' module, and print out the result to the user. As an\n",
    "example,\n",
    "calculate the square root of the number 625 using this program, which should output the value\n",
    "of 25.\n"
   ]
  },
  {
   "cell_type": "code",
   "execution_count": 2,
   "id": "7bc281f1",
   "metadata": {},
   "outputs": [
    {
     "name": "stdout",
     "output_type": "stream",
     "text": [
      "Enter a number to calculate it's square root:625\n",
      "The square root of 625.0 is : 25.0\n"
     ]
    }
   ],
   "source": [
    "import math\n",
    "\n",
    "def square_root():\n",
    "  while True:\n",
    "    try:\n",
    "      num = float(input(\"Enter a number to calculate it's square root:\"))\n",
    "      break  # Exit loop if input is successfully converted to float\n",
    "    except ValueError:\n",
    "      print(\"Please enter a valid number\")\n",
    "  \n",
    "  result = math.sqrt(num)\n",
    "  print(\"The square root of\", num, \"is :\",  result)\n",
    "\n",
    "# Call the function to execute the program\n",
    "square_root()"
   ]
  },
  {
   "cell_type": "markdown",
   "id": "b3f33688",
   "metadata": {},
   "source": [
    "Q3.Write a program that prints all prime numbers between 0 to 50.\n"
   ]
  },
  {
   "cell_type": "code",
   "execution_count": 3,
   "id": "f4d51648",
   "metadata": {},
   "outputs": [
    {
     "name": "stdout",
     "output_type": "stream",
     "text": [
      "Enter a number to check it is prime number :15\n",
      "Not Prime\n"
     ]
    }
   ],
   "source": [
    "def is_prime(a):\n",
    "  if a<=1:\n",
    "    return False \n",
    "  for i in range(2,a):\n",
    "    if(a%i==0):\n",
    "     return False\n",
    "  return True\n",
    "number = int(input(\"Enter a number to check it is prime number :\"))\n",
    "\n",
    "if is_prime(number):\n",
    "    print(\"Prime\")\n",
    "else:\n",
    "    print(\"Not Prime\")"
   ]
  },
  {
   "cell_type": "code",
   "execution_count": 18,
   "id": "7c66e22f",
   "metadata": {},
   "outputs": [
    {
     "ename": "SyntaxError",
     "evalue": "invalid syntax (2593993511.py, line 18)",
     "output_type": "error",
     "traceback": [
      "\u001b[1;36m  Cell \u001b[1;32mIn[18], line 18\u001b[1;36m\u001b[0m\n\u001b[1;33m    retune l2\u001b[0m\n\u001b[1;37m           ^\u001b[0m\n\u001b[1;31mSyntaxError\u001b[0m\u001b[1;31m:\u001b[0m invalid syntax\n"
     ]
    }
   ],
   "source": [
    "def is_prime(a):\n",
    "  l1 = []\n",
    "  l2=[]\n",
    "  for i in range(2,a+1):\n",
    "    l1.append(i)\n",
    "  for i in li:\n",
    "    if (i <=1):\n",
    "        flag =0\n",
    "        break\n",
    "    for j in range(2,i):\n",
    "        if(j%i==0):\n",
    "            flag=0\n",
    "            break\n",
    "    flag = 1\n",
    "    if(flag == 1 ):\n",
    "        l2.append(i)\n",
    "    \n",
    "             \n",
    "\n",
    " "
   ]
  },
  {
   "cell_type": "code",
   "execution_count": null,
   "id": "6356409b",
   "metadata": {},
   "outputs": [],
   "source": []
  }
 ],
 "metadata": {
  "kernelspec": {
   "display_name": "Python 3 (ipykernel)",
   "language": "python",
   "name": "python3"
  },
  "language_info": {
   "codemirror_mode": {
    "name": "ipython",
    "version": 3
   },
   "file_extension": ".py",
   "mimetype": "text/x-python",
   "name": "python",
   "nbconvert_exporter": "python",
   "pygments_lexer": "ipython3",
   "version": "3.11.4"
  }
 },
 "nbformat": 4,
 "nbformat_minor": 5
}
