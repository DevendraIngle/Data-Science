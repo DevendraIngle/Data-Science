{
 "cells": [
  {
   "cell_type": "markdown",
   "id": "b9ca85dd-8a55-4efe-a28e-f1641d4903cf",
   "metadata": {},
   "source": [
    "Consider following code to answer further questions:\n",
    "import pandas as pd\n",
    "course_name = [‘Data Science’, ‘Machine Learning’, ‘Big Data’, ‘Data Engineer’]\n",
    "duration = [2,3,6,4]\n",
    "df = pd.DataFrame(data = {‘course_name’ : course_name, ‘duration’ : duration})"
   ]
  },
  {
   "cell_type": "markdown",
   "id": "5bbf541c-0b05-4d8b-a197-6fee6a632955",
   "metadata": {},
   "source": [
    "Q1. Write a code to print the data present in the second row of the dataframe, df."
   ]
  },
  {
   "cell_type": "code",
   "execution_count": 1,
   "id": "0589922d-ba85-43a7-b039-3ed8df7d58b9",
   "metadata": {},
   "outputs": [
    {
     "name": "stdout",
     "output_type": "stream",
     "text": [
      "course_name    Machine Learning\n",
      "duration                      3\n",
      "Name: 1, dtype: object\n"
     ]
    }
   ],
   "source": [
    "import pandas as pd\n",
    "\n",
    "course_name = ['Data Science', 'Machine Learning', 'Big Data', 'Data Engineer']\n",
    "duration = [2, 3, 6, 4]\n",
    "df = pd.DataFrame(data={'course_name': course_name, 'duration': duration})\n",
    "\n",
    "# Print the data present in the second row (index 1)\n",
    "second_row = df.iloc[1]\n",
    "print(second_row)\n"
   ]
  },
  {
   "cell_type": "markdown",
   "id": "5d0eed1f-3b25-44f9-b0e3-a038106b1a79",
   "metadata": {},
   "source": [
    "Q2. What is the difference between the functions loc and iloc in pandas.DataFrame?"
   ]
  },
  {
   "cell_type": "markdown",
   "id": "7f21c251-1884-403d-8f75-26b7f7d20ed2",
   "metadata": {},
   "source": [
    "The `loc` and `iloc` functions in pandas are used for selecting data from a DataFrame, but they differ in the type of indexing they use:\n",
    "\n",
    "### `loc`\n",
    "- **Label-based indexing**: It is used to access a group of rows and columns by labels or a boolean array.\n",
    "- **Row and Column Labels**: You can select data by specifying the row and column labels.\n",
    "- **Inclusive Slicing**: When using slicing, the start and end labels are included.\n",
    "- **Syntax**: `df.loc[row_label, column_label]`\n",
    "\n",
    "### `iloc`\n",
    "- **Integer-location based indexing**: It is used to access a group of rows and columns by integer positions (indices).\n",
    "- **Row and Column Indices**: You can select data by specifying the row and column indices.\n",
    "- **Exclusive Slicing**: When using slicing, the end index is excluded.\n",
    "- **Syntax**: `df.iloc[row_index, column_index]`\n",
    "\n",
    "### Examples\n",
    "\n",
    "Given the following DataFrame:\n",
    "\n",
    "```python\n",
    "import pandas as pd\n",
    "\n",
    "data = {\n",
    "    'course_name': ['Data Science', 'Machine Learning', 'Big Data', 'Data Engineer'],\n",
    "    'duration': [2, 3, 6, 4]\n",
    "}\n",
    "df = pd.DataFrame(data)\n",
    "```\n",
    "\n",
    "#### Using `loc`\n",
    "1. **Selecting a specific row by label**:\n",
    "   ```python\n",
    "   print(df.loc[1])  # Assuming the index is labeled with integers by default\n",
    "   ```\n",
    "\n",
    "2. **Selecting a specific cell by row and column labels**:\n",
    "   ```python\n",
    "   print(df.loc[1, 'course_name'])  # 'Machine Learning'\n",
    "   ```\n",
    "\n",
    "3. **Selecting a slice of rows**:\n",
    "   ```python\n",
    "   print(df.loc[1:3])  # Includes rows with labels 1, 2, and 3\n",
    "   ```\n",
    "\n",
    "#### Using `iloc`\n",
    "1. **Selecting a specific row by index**:\n",
    "   ```python\n",
    "   print(df.iloc[1])  # Second row\n",
    "   ```\n",
    "\n",
    "2. **Selecting a specific cell by row and column indices**:\n",
    "   ```python\n",
    "   print(df.iloc[1, 0])  # 'Machine Learning'\n",
    "   ```\n",
    "\n",
    "3. **Selecting a slice of rows**:\n",
    "   ```python\n",
    "   print(df.iloc[1:3])  # Includes rows at index positions 1 and 2\n",
    "   ```\n",
    "\n",
    "### Key Differences\n",
    "- **Indexing Type**: `loc` uses label-based indexing, whereas `iloc` uses integer-based indexing.\n",
    "- **Slicing Behavior**: In `loc`, slicing includes the start and end labels, while in `iloc`, slicing includes the start index but excludes the end index.\n",
    "- **Usage**: Use `loc` when you need to work with labels and `iloc` when you need to work with positional indexing.\n",
    "\n",
    "These differences make `loc` and `iloc` useful for different scenarios, depending on whether you need to work with labels or positions within your DataFrame."
   ]
  },
  {
   "cell_type": "code",
   "execution_count": 2,
   "id": "cdd8020f-5807-4207-8411-2f4025d16b7e",
   "metadata": {},
   "outputs": [
    {
     "name": "stdout",
     "output_type": "stream",
     "text": [
      "new_df.loc[2]:\n",
      "course_name    Big Data\n",
      "duration              6\n",
      "Name: 2, dtype: object\n",
      "\n",
      "new_df.iloc[2]:\n",
      "course_name    Machine Learning\n",
      "duration                      3\n",
      "Name: 1, dtype: object\n"
     ]
    }
   ],
   "source": [
    "import pandas as pd\n",
    "\n",
    "# Original DataFrame\n",
    "course_name = ['Data Science', 'Machine Learning', 'Big Data', 'Data Engineer']\n",
    "duration = [2, 3, 6, 4]\n",
    "df = pd.DataFrame(data={'course_name': course_name, 'duration': duration})\n",
    "\n",
    "# Reindexing\n",
    "reindex = [3, 0, 1, 2]\n",
    "new_df = df.reindex(reindex)\n",
    "\n",
    "# Output for new_df.loc[2]\n",
    "print(\"new_df.loc[2]:\")\n",
    "print(new_df.loc[2])\n",
    "\n",
    "# Output for new_df.iloc[2]\n",
    "print(\"\\nnew_df.iloc[2]:\")\n",
    "print(new_df.iloc[2])\n"
   ]
  },
  {
   "cell_type": "markdown",
   "id": "ee4186aa-32d4-459e-aaae-b47e39e75e9f",
   "metadata": {},
   "source": [
    "Q3. Reindex the given dataframe using a variable, reindex = [3,0,1,2] and store it in the variable, new_df\n",
    "then find the output for both new_df.loc[2] and new_df.iloc[2].\n",
    "\n",
    "\n",
    "Did you observe any difference in both the outputs? If so then explain it.\n",
    "Consider the below code to answer further questions:\n",
    "import pandas as pd\n",
    "import numpy as np\n",
    "columns = ['column_1', 'column_2', 'column_3', 'column_4', 'column_5', 'column_6']\n",
    "indices = [1,2,3,4,5,6]\n",
    "#Creating a dataframe:\n",
    "df1 = pd.DataFrame(np.random.rand(6,6), columns = columns, index = indices)"
   ]
  },
  {
   "cell_type": "markdown",
   "id": "b79f846c-7344-4287-bdb3-b30e1658b4fc",
   "metadata": {},
   "source": [
    "To reindex the given DataFrame and observe the differences between `loc` and `iloc`, follow the steps below:\n",
    "\n",
    "1. Reindex the DataFrame.\n",
    "2. Access the specific rows using `loc` and `iloc`.\n",
    "\n",
    "Here's the complete process:\n",
    "\n",
    "### Step 1: Creating the DataFrame\n",
    "```python\n",
    "import pandas as pd\n",
    "import numpy as np\n",
    "\n",
    "columns = ['column_1', 'column_2', 'column_3', 'column_4', 'column_5', 'column_6']\n",
    "indices = [1, 2, 3, 4, 5, 6]\n",
    "\n",
    "# Creating a DataFrame\n",
    "df1 = pd.DataFrame(np.random.rand(6, 6), columns=columns, index=indices)\n",
    "```\n",
    "\n",
    "### Step 2: Reindexing the DataFrame\n",
    "```python\n",
    "# Reindexing\n",
    "reindex = [3, 0, 1, 2]\n",
    "new_df = df1.reindex(reindex)\n",
    "```\n",
    "\n",
    "### Step 3: Accessing rows using `loc` and `iloc`\n",
    "```python\n",
    "# Accessing using loc and iloc\n",
    "loc_output = new_df.loc[2]\n",
    "iloc_output = new_df.iloc[2]\n",
    "\n",
    "print(\"new_df.loc[2]:\")\n",
    "print(loc_output)\n",
    "print(\"\\nnew_df.iloc[2]:\")\n",
    "print(iloc_output)\n",
    "```\n",
    "\n",
    "### Observations\n",
    "\n",
    "#### `new_df.loc[2]`\n",
    "- `loc` accesses rows by their labels.\n",
    "- Since we reindexed with `[3, 0, 1, 2]`, the label `2` corresponds to the data originally at index `2` in `df1`.\n",
    "\n",
    "#### `new_df.iloc[2]`\n",
    "- `iloc` accesses rows by their integer positions.\n",
    "- In the reindexed DataFrame `new_df`, the integer position `2` corresponds to the third entry, which is the data originally at index `1` in `df1`.\n",
    "\n",
    "### Explanation of Differences\n",
    "\n",
    "The difference arises because:\n",
    "- `loc` retrieves data based on the label provided, so `new_df.loc[2]` gives the row where the label is `2`, which is now at the fourth position after reindexing.\n",
    "- `iloc` retrieves data based on the integer position, so `new_df.iloc[2]` gives the third row in the reindexed DataFrame, which corresponds to the data originally at index `1` before reindexing.\n",
    "\n",
    "### Complete Code\n",
    "\n",
    "\n",
    "By running this code,we'll be able to observe the differences in outputs between `new_df.loc[2]` and `new_df.iloc[2]`."
   ]
  },
  {
   "cell_type": "code",
   "execution_count": 3,
   "id": "d06097f8-02fa-4f7a-91d1-27f1ca9de7b5",
   "metadata": {},
   "outputs": [
    {
     "name": "stdout",
     "output_type": "stream",
     "text": [
      "new_df.loc[2]:\n",
      "column_1    0.646001\n",
      "column_2    0.740663\n",
      "column_3    0.294396\n",
      "column_4    0.232058\n",
      "column_5    0.815971\n",
      "column_6    0.756607\n",
      "Name: 2, dtype: float64\n",
      "\n",
      "new_df.iloc[2]:\n",
      "column_1    0.426917\n",
      "column_2    0.810685\n",
      "column_3    0.952127\n",
      "column_4    0.475161\n",
      "column_5    0.074363\n",
      "column_6    0.750506\n",
      "Name: 1, dtype: float64\n"
     ]
    }
   ],
   "source": [
    "import pandas as pd\n",
    "import numpy as np\n",
    "\n",
    "columns = ['column_1', 'column_2', 'column_3', 'column_4', 'column_5', 'column_6']\n",
    "indices = [1, 2, 3, 4, 5, 6]\n",
    "\n",
    "# Creating a DataFrame\n",
    "df1 = pd.DataFrame(np.random.rand(6, 6), columns=columns, index=indices)\n",
    "\n",
    "# Reindexing\n",
    "reindex = [3, 0, 1, 2]\n",
    "new_df = df1.reindex(reindex)\n",
    "\n",
    "# Accessing using loc and iloc\n",
    "loc_output = new_df.loc[2]\n",
    "iloc_output = new_df.iloc[2]\n",
    "\n",
    "print(\"new_df.loc[2]:\")\n",
    "print(loc_output)\n",
    "print(\"\\nnew_df.iloc[2]:\")\n",
    "print(iloc_output)"
   ]
  },
  {
   "cell_type": "markdown",
   "id": "c8d91bb9-eae3-4895-b369-14e1166403d8",
   "metadata": {},
   "source": [
    "Q4. Write a code to find the following statistical measurements for the above dataframe df1:\n",
    "(i) mean of each and every column present in the dataframe.\n",
    "(ii) standard deviation of column, ‘column_2’"
   ]
  },
  {
   "cell_type": "code",
   "execution_count": 4,
   "id": "7f566e39-28b6-4708-8aec-a39003c46131",
   "metadata": {},
   "outputs": [
    {
     "name": "stdout",
     "output_type": "stream",
     "text": [
      "Mean of each column:\n",
      "column_1    0.604005\n",
      "column_2    0.533524\n",
      "column_3    0.633990\n",
      "column_4    0.673642\n",
      "column_5    0.651326\n",
      "column_6    0.507331\n",
      "dtype: float64\n",
      "\n",
      "Standard deviation of 'column_2':\n",
      "0.2429975003839494\n"
     ]
    }
   ],
   "source": [
    "import pandas as pd\n",
    "import numpy as np\n",
    "\n",
    "# Define the columns and indices\n",
    "columns = ['column_1', 'column_2', 'column_3', 'column_4', 'column_5', 'column_6']\n",
    "indices = [1, 2, 3, 4, 5, 6]\n",
    "\n",
    "# Create the DataFrame\n",
    "df1 = pd.DataFrame(np.random.rand(6, 6), columns=columns, index=indices)\n",
    "\n",
    "# (i) Calculate the mean of each column\n",
    "mean_values = df1.mean()\n",
    "\n",
    "# (ii) Calculate the standard deviation of 'column_2'\n",
    "std_dev_column_2 = df1['column_2'].std()\n",
    "\n",
    "# Display results\n",
    "print(\"Mean of each column:\")\n",
    "print(mean_values)\n",
    "\n",
    "print(\"\\nStandard deviation of 'column_2':\")\n",
    "print(std_dev_column_2)\n"
   ]
  },
  {
   "cell_type": "markdown",
   "id": "f87f5b07-5a31-45a9-9649-05a6ff37163f",
   "metadata": {},
   "source": [
    "Q5. Replace the data present in the second row of column, ‘column_2’ by a string variable then find the\n",
    "mean of column, column_2.\n",
    "If you are getting errors in executing it then explain why.\n",
    "[Hint: To replace the data use df1.loc[] and equate this to string data of your choice.]"
   ]
  },
  {
   "cell_type": "markdown",
   "id": "d5921cac-5f71-4c4c-9d20-bd820a0a2bb5",
   "metadata": {},
   "source": [
    "Step 1: Replace the Data in the Second Row of Column 'column_2'"
   ]
  },
  {
   "cell_type": "code",
   "execution_count": 5,
   "id": "f7916a36-d60f-4f1f-8dd0-ba5741559aba",
   "metadata": {},
   "outputs": [
    {
     "name": "stdout",
     "output_type": "stream",
     "text": [
      "DataFrame after replacement:\n",
      "   column_1      column_2  column_3  column_4  column_5  column_6\n",
      "1  0.659792      0.639793  0.940618  0.611522  0.987283  0.855960\n",
      "2  0.704645  string_value  0.504909  0.072012  0.200278  0.259383\n",
      "3  0.564471      0.266428  0.759681  0.675797  0.215947  0.447563\n",
      "4  0.263211       0.86822  0.643121  0.835818  0.732098  0.508198\n",
      "5  0.724695      0.404624  0.333588  0.978562  0.995311  0.017842\n",
      "6  0.707215      0.307374  0.622024  0.868142  0.777039  0.955043\n"
     ]
    },
    {
     "name": "stderr",
     "output_type": "stream",
     "text": [
      "C:\\Users\\deven\\AppData\\Local\\Temp\\ipykernel_10912\\1127847248.py:2: FutureWarning: Setting an item of incompatible dtype is deprecated and will raise an error in a future version of pandas. Value 'string_value' has dtype incompatible with float64, please explicitly cast to a compatible dtype first.\n",
      "  df1.loc[2, 'column_2'] = 'string_value'\n"
     ]
    }
   ],
   "source": [
    "# Replace the data in the second row of 'column_2' with a string\n",
    "df1.loc[2, 'column_2'] = 'string_value'\n",
    "print(\"DataFrame after replacement:\")\n",
    "print(df1)\n"
   ]
  },
  {
   "cell_type": "markdown",
   "id": "130da5ef-0534-4791-9b44-ab78b2fd08ab",
   "metadata": {},
   "source": [
    "Step 2: Attempt to Calculate the Mean of Column 'column_2'"
   ]
  },
  {
   "cell_type": "code",
   "execution_count": 6,
   "id": "bc102f55-0275-47a4-84c3-891fbd97ac38",
   "metadata": {},
   "outputs": [
    {
     "name": "stdout",
     "output_type": "stream",
     "text": [
      "\n",
      "Error calculating mean of column_2:\n",
      "unsupported operand type(s) for +: 'float' and 'str'\n"
     ]
    }
   ],
   "source": [
    "# Attempt to calculate the mean of 'column_2'\n",
    "try:\n",
    "    mean_column_2 = df1['column_2'].mean()\n",
    "    print(\"\\nMean of column_2:\")\n",
    "    print(mean_column_2)\n",
    "except Exception as e:\n",
    "    print(\"\\nError calculating mean of column_2:\")\n",
    "    print(e)\n"
   ]
  },
  {
   "cell_type": "markdown",
   "id": "dbd5860e-f44a-4e38-b110-0b780239a63f",
   "metadata": {},
   "source": [
    "Q6. What do you understand about the windows function in pandas and list the types of windows\n",
    "functions?"
   ]
  },
  {
   "cell_type": "raw",
   "id": "07e41c0c-7332-404b-bafb-2c5211fd60c0",
   "metadata": {},
   "source": [
    "In pandas, a window function (also known as a windowing function or rolling function) is used to perform calculations over a sliding window of data. These functions are helpful in time series analysis and other scenarios where you need to perform operations on a subset of data that moves over the entire dataset.\n",
    "\n",
    "Key Concepts of Window Functions:\n",
    "\n",
    "Sliding Window:\n",
    "\n",
    "The window function operates on a fixed-size window that moves across the dataset. For example, you might calculate the moving average of stock prices over a 7-day window.\n",
    "\n",
    "Aggregation:\n",
    "\n",
    "Window functions can aggregate data in the window. For example, computing the sum or mean of values within the window.\n",
    "\n",
    "Rolling Computations:\n",
    "\n",
    "Window functions can compute rolling statistics like moving averages, rolling sums, and rolling standard deviations.\n",
    "\n",
    "Expanding Windows:\n",
    "\n",
    "Expanding windows include all preceding data points up to the current point. This is different from a fixed-size rolling window that only considers a specific number of data points.\n",
    "\n",
    "Exponential Moving Windows:\n",
    "\n",
    "These windows give more weight to more recent observations, decaying exponentially as observations go further back in time.\n",
    "Types of Window Functions in pandas:\n",
    "\n",
    "Rolling Window Functions:\n",
    "\n",
    "These functions perform calculations over a rolling window of fixed size.\n",
    "\n",
    "Common Methods:\n",
    "\n",
    "    .rolling(window, min_periods=1).mean(): Calculates the rolling mean.\n",
    "    .rolling(window, min_periods=1).sum(): Calculates the rolling sum.\n",
    "    .rolling(window, min_periods=1).std(): Calculates the rolling standard deviation.\n",
    "    .rolling(window, min_periods=1).apply(func): Applies a custom function over the rolling window.\n",
    "\n",
    "Expanding Window Functions:\n",
    "\n",
    "    These functions perform calculations over an expanding window that includes all data points from the beginning up to the current point.\n",
    "    Common Methods:\n",
    "    .expanding(min_periods=1).mean(): Calculates the expanding mean.\n",
    "    .expanding(min_periods=1).sum(): Calculates the expanding sum.\n",
    "    .expanding(min_periods=1).std(): Calculates the expanding standard deviation.\n",
    "\n",
    "EWM (Exponentially Weighted Functions):\n",
    "\n",
    "    These functions apply exponentially decreasing weights to past observations.\n",
    "    Common Methods:\n",
    "    .ewm(span=span).mean(): Calculates the exponentially weighted moving average.\n",
    "    .ewm(span=span).std(): Calculates the exponentially weighted moving standard deviation.\n",
    "\n",
    "Rolling Window with Different Types:\n",
    "\n",
    "Rolling windows can also have different types of weights, like center (centered window) or win_type (window type).\n",
    "Common Methods:\n",
    "\n",
    ".rolling(window, win_type='triang').mean(): Uses a triangular window for rolling mean"
   ]
  },
  {
   "cell_type": "markdown",
   "id": "bdc28c18-8ea3-46a2-8987-82dd33cc70f9",
   "metadata": {},
   "source": [
    "In pandas, window functions are used for performing operations over a specified window or subset of rows. These functions are particularly useful for calculating statistics over rolling windows, expanding windows, and exponentially weighted windows. They are often used in time series analysis, financial data analysis, and signal processing.\n",
    "\n",
    "### Types of Window Functions in pandas\n",
    "\n",
    "1. **Rolling Windows**:\n",
    "   - **Definition**: Perform calculations over a fixed-size sliding window.\n",
    "   - **Usage**: Useful for computing moving averages, moving sums, and other rolling statistics.\n",
    "   - **Function**: `rolling()`\n",
    "   - **Example**:\n",
    "     ```python\n",
    "     df['rolling_mean'] = df['column_name'].rolling(window=3).mean()\n",
    "     ```\n",
    "\n",
    "2. **Expanding Windows**:\n",
    "   - **Definition**: Perform calculations over an expanding window that includes all previous data points up to the current point.\n",
    "   - **Usage**: Useful for cumulative calculations such as cumulative sum, cumulative mean.\n",
    "   - **Function**: `expanding()`\n",
    "   - **Example**:\n",
    "     ```python\n",
    "     df['expanding_mean'] = df['column_name'].expanding().mean()\n",
    "     ```\n",
    "\n",
    "3. **Exponentially Weighted Windows**:\n",
    "   - **Definition**: Perform calculations with exponentially decreasing weights over past data points.\n",
    "   - **Usage**: Useful for giving more importance to recent observations in time series data.\n",
    "   - **Function**: `ewm()`\n",
    "   - **Example**:\n",
    "     ```python\n",
    "     df['ewm_mean'] = df['column_name'].ewm(span=3).mean()\n",
    "     ```\n",
    "\n",
    "### Key Window Functions\n",
    "\n",
    "1. **Rolling Windows Functions**:\n",
    "   - `rolling(window)`: Creates a rolling window object.\n",
    "   - `mean()`: Calculate the mean of the values over the window.\n",
    "   - `sum()`: Calculate the sum of the values over the window.\n",
    "   - `std()`: Calculate the standard deviation of the values over the window.\n",
    "   - `min()`: Calculate the minimum value over the window.\n",
    "   - `max()`: Calculate the maximum value over the window.\n",
    "   - `apply(func)`: Apply a custom function over the window.\n",
    "\n",
    "2. **Expanding Windows Functions**:\n",
    "   - `expanding(min_periods=1)`: Creates an expanding window object.\n",
    "   - `mean()`: Calculate the cumulative mean.\n",
    "   - `sum()`: Calculate the cumulative sum.\n",
    "   - `std()`: Calculate the cumulative standard deviation.\n",
    "   - `min()`: Calculate the cumulative minimum.\n",
    "   - `max()`: Calculate the cumulative maximum.\n",
    "   - `apply(func)`: Apply a custom function over the expanding window.\n",
    "\n",
    "3. **Exponentially Weighted Windows Functions**:\n",
    "   - `ewm(span, adjust=True, min_periods=0, ignore_na=False)`: Creates an exponentially weighted window object.\n",
    "   - `mean()`: Calculate the exponentially weighted mean.\n",
    "   - `sum()`: Calculate the exponentially weighted sum.\n",
    "   - `std()`: Calculate the exponentially weighted standard deviation.\n",
    "   - `var()`: Calculate the exponentially weighted variance.\n",
    "   - `apply(func)`: Apply a custom function over the exponentially weighted window.\n",
    "\n"
   ]
  },
  {
   "cell_type": "markdown",
   "id": "4ec026a8-00b7-4447-be45-c7556378e52c",
   "metadata": {},
   "source": [
    "Q7. Write a code to print only the current month and year at the time of answering this question.\n",
    "[Hint: Use pandas.datetime function]\n"
   ]
  },
  {
   "cell_type": "code",
   "execution_count": 7,
   "id": "76deefad-a3f2-4c53-a22e-fb8504a15fc6",
   "metadata": {},
   "outputs": [
    {
     "name": "stdout",
     "output_type": "stream",
     "text": [
      "Current month: 9\n",
      "Current year: 2024\n"
     ]
    }
   ],
   "source": [
    "\n",
    "import pandas as pd\n",
    "\n",
    "# Get the current timestamp\n",
    "current_timestamp = pd.Timestamp.now()\n",
    "\n",
    "# Extract the current month and year\n",
    "current_month = current_timestamp.month\n",
    "current_year = current_timestamp.year\n",
    "\n",
    "# Print the current month and year\n",
    "print(f\"Current month: {current_month}\")\n",
    "print(f\"Current year: {current_year}\")\n"
   ]
  },
  {
   "cell_type": "markdown",
   "id": "062f9227-89aa-4620-9e39-04163d12888c",
   "metadata": {},
   "source": [
    "Q8. Write a Python program that takes in two dates as input (in the format YYYY-MM-DD) and\n",
    "calculates the difference between them in days, hours, and minutes using Pandas time delta. The\n",
    "program should prompt the user to enter the dates and display the result."
   ]
  },
  {
   "cell_type": "code",
   "execution_count": null,
   "id": "5adf0252-9e58-4133-b585-4ac8bb485a43",
   "metadata": {},
   "outputs": [],
   "source": [
    "## import pandas as pd\n",
    "\n",
    "# Prompt user to enter the two dates\n",
    "date1_str = input(\"Enter the first date (YYYY-MM-DD): \")\n",
    "date2_str = input(\"Enter the second date (YYYY-MM-DD): \")\n",
    "\n",
    "# Convert the date strings to pandas Timestamp objects\n",
    "date1 = pd.Timestamp(date1_str)\n",
    "date2 = pd.Timestamp(date2_str)\n",
    "\n",
    "# Calculate the difference between the two dates\n",
    "time_delta = date2 - date1\n",
    "\n",
    "# Extract days, hours, and minutes from the time delta\n",
    "days = time_delta.days\n",
    "hours, remainder = divmod(time_delta.seconds, 3600)\n",
    "minutes, _ = divmod(remainder, 60)\n",
    "\n",
    "# Print the result\n",
    "print(f\"Difference between the two dates is: {days} days, {hours} hours, and {minutes} minutes.\")\n"
   ]
  },
  {
   "cell_type": "markdown",
   "id": "539a98d1-3f0e-4546-af81-684813a04c9e",
   "metadata": {},
   "source": [
    "Q9. Write a Python program that reads a CSV file containing categorical data and converts a specified\n",
    "column to a categorical data type. The program should prompt the user to enter the file path, column\n",
    "name, and category order, and then display the sorted data."
   ]
  },
  {
   "cell_type": "code",
   "execution_count": 8,
   "id": "86f8519a-45ee-4aea-bfbd-46a2e4ae6196",
   "metadata": {},
   "outputs": [
    {
     "name": "stdout",
     "output_type": "stream",
     "text": [
      "Sample CSV file 'grades.csv' created successfully!\n",
      "\n",
      "Reading data from the file...\n",
      "Converting the column 'Grade' to a categorical data type...\n",
      "\n",
      "Sorting the data based on the 'Grade' column with the specified order...\n",
      "\n",
      "Here is your sorted data:\n",
      "    Name Grade\n",
      "0   John     A\n",
      "4   Emma     A\n",
      "1  Alice     B\n",
      "3    Tom     B\n",
      "2    Bob     C\n"
     ]
    }
   ],
   "source": [
    "import pandas as pd\n",
    "\n",
    "# Step 1: Create a CSV file with sample data\n",
    "def create_sample_csv(file_name):\n",
    "    data = {\n",
    "        'Name': ['John', 'Alice', 'Bob', 'Tom', 'Emma'],\n",
    "        'Grade': ['A', 'B', 'C', 'B', 'A']\n",
    "    }\n",
    "    df = pd.DataFrame(data)\n",
    "    \n",
    "    # Save the DataFrame as a CSV file\n",
    "    df.to_csv(file_name, index=False)\n",
    "    print(f\"Sample CSV file '{file_name}' created successfully!\")\n",
    "\n",
    "# Step 2: Convert the 'Grade' column to categorical and sort the data\n",
    "def convert_grade_to_categorical(file_path):\n",
    "    try:\n",
    "        # Reading the CSV file into a DataFrame\n",
    "        print(\"\\nReading data from the file...\")\n",
    "        df = pd.read_csv(file_path)\n",
    "\n",
    "        # The column we're converting and the category order\n",
    "        column_name = 'Grade'\n",
    "        category_order = ['A', 'B', 'C']\n",
    "\n",
    "        # Converting the specified column to a categorical type with the given order\n",
    "        print(f\"Converting the column '{column_name}' to a categorical data type...\")\n",
    "        df[column_name] = pd.Categorical(df[column_name], categories=category_order, ordered=True)\n",
    "\n",
    "        # Sorting the DataFrame based on the categorical column\n",
    "        print(f\"\\nSorting the data based on the '{column_name}' column with the specified order...\")\n",
    "        sorted_df = df.sort_values(by=column_name)\n",
    "\n",
    "        # Displaying the sorted DataFrame\n",
    "        print(\"\\nHere is your sorted data:\")\n",
    "        print(sorted_df)\n",
    "    \n",
    "    except FileNotFoundError:\n",
    "        print(f\"\\nOops! The file '{file_path}' was not found. Please check the file path and try again.\")\n",
    "    except pd.errors.EmptyDataError:\n",
    "        print(f\"\\nIt looks like the file '{file_path}' is empty. Please provide a valid CSV file with data.\")\n",
    "    except KeyError:\n",
    "        print(f\"\\nIt seems like the column 'Grade' does not exist in the file. Double-check the column name.\")\n",
    "    except Exception as e:\n",
    "        print(f\"\\nAn unexpected error occurred: {e}\")\n",
    "\n",
    "# Main function to create the CSV and then process it\n",
    "def main():\n",
    "    # Define the file name\n",
    "    file_name = 'grades.csv'\n",
    "    \n",
    "    # Step 1: Create the sample CSV file\n",
    "    create_sample_csv(file_name)\n",
    "\n",
    "    # Step 2: Convert 'Grade' to categorical and display sorted data\n",
    "    convert_grade_to_categorical(file_name)\n",
    "\n",
    "if __name__ == \"__main__\":\n",
    "    main()\n"
   ]
  },
  {
   "cell_type": "markdown",
   "id": "dfa252c1-e2f7-4152-ac88-39f3f0bf3a9e",
   "metadata": {},
   "source": [
    "Q10. Write a Python program that reads a CSV file containing sales data for different products and\n",
    "visualizes the data using a stacked bar chart to show the sales of each product category over time. The\n",
    "program should prompt the user to enter the file path and display the chart."
   ]
  },
  {
   "cell_type": "code",
   "execution_count": 10,
   "id": "9510a70c-41f3-43a6-94e0-84282db66ae7",
   "metadata": {},
   "outputs": [
    {
     "name": "stdout",
     "output_type": "stream",
     "text": [
      "CSV file 'sales_data.csv' created successfully!\n"
     ]
    }
   ],
   "source": [
    "import pandas as pd\n",
    "\n",
    "# Data for the CSV\n",
    "data = {\n",
    "    'Date': ['2024-01-01', '2024-01-01', '2024-01-01',\n",
    "             '2024-02-01', '2024-02-01', '2024-02-01',\n",
    "             '2024-03-01', '2024-03-01', '2024-03-01'],\n",
    "    'Product Category': ['Electronics', 'Furniture', 'Clothing',\n",
    "                         'Electronics', 'Furniture', 'Clothing',\n",
    "                         'Electronics', 'Furniture', 'Clothing'],\n",
    "    'Sales': [1200, 800, 500, 1500, 950, 650, 1700, 1000, 700]\n",
    "}\n",
    "\n",
    "# Creating a DataFrame\n",
    "df = pd.DataFrame(data)\n",
    "\n",
    "# Saving the DataFrame as a CSV file\n",
    "df.to_csv('sales_data.csv', index=False)\n",
    "print(f\"CSV file 'sales_data.csv' created successfully!\")\n"
   ]
  },
  {
   "cell_type": "code",
   "execution_count": 11,
   "id": "94a1b91a-475d-49f7-8a22-c851b3f249a2",
   "metadata": {},
   "outputs": [
    {
     "name": "stdout",
     "output_type": "stream",
     "text": [
      "Welcome! This program visualizes sales data with a stacked bar chart.\n"
     ]
    },
    {
     "name": "stdin",
     "output_type": "stream",
     "text": [
      "\n",
      "Please enter the file path of the CSV file (e.g., 'sales_data.csv'):  sales_data.csv\n"
     ]
    },
    {
     "name": "stdout",
     "output_type": "stream",
     "text": [
      "\n",
      "Reading sales data from the file...\n",
      "\n",
      "Generating the stacked bar chart...\n"
     ]
    },
    {
     "data": {
      "image/png": "[encoded data removed]",
      "text/plain": [
       "<Figure size 1000x600 with 1 Axes>"
      ]
     },
     "metadata": {},
     "output_type": "display_data"
    },
    {
     "name": "stdout",
     "output_type": "stream",
     "text": [
      "\n",
      "Thank you! Your chart has been displayed successfully.\n"
     ]
    }
   ],
   "source": [
    "import pandas as pd\n",
    "import matplotlib.pyplot as plt\n",
    "\n",
    "# Function to visualize sales data using a stacked bar chart\n",
    "def visualize_sales_data(file_path):\n",
    "    try:\n",
    "        # Reading the CSV file into a DataFrame\n",
    "        print(\"\\nReading sales data from the file...\")\n",
    "        df = pd.read_csv(file_path)\n",
    "\n",
    "        # Check if necessary columns exist in the file\n",
    "        if not {'Date', 'Product Category', 'Sales'}.issubset(df.columns):\n",
    "            print(\"\\nError: The file must contain 'Date', 'Product Category', and 'Sales' columns.\")\n",
    "            return\n",
    "\n",
    "        # Pivot the DataFrame to get product categories as columns and sales values\n",
    "        df_pivot = df.pivot_table(index='Date', columns='Product Category', values='Sales', aggfunc='sum', fill_value=0)\n",
    "\n",
    "        # Plotting the stacked bar chart\n",
    "        print(\"\\nGenerating the stacked bar chart...\")\n",
    "        df_pivot.plot(kind='bar', stacked=True, figsize=(10, 6))\n",
    "\n",
    "        # Adding labels and title\n",
    "        plt.xlabel('Date')\n",
    "        plt.ylabel('Sales')\n",
    "        plt.title('Sales of Each Product Category Over Time')\n",
    "\n",
    "        # Rotating x-axis labels for better readability\n",
    "        plt.xticks(rotation=45)\n",
    "\n",
    "        # Displaying the chart\n",
    "        plt.tight_layout()\n",
    "        plt.show()\n",
    "\n",
    "    except FileNotFoundError:\n",
    "        print(f\"\\nOops! The file '{file_path}' was not found. Please check the file path and try again.\")\n",
    "    except pd.errors.EmptyDataError:\n",
    "        print(f\"\\nIt looks like the file '{file_path}' is empty. Please provide a valid CSV file with data.\")\n",
    "    except Exception as e:\n",
    "        print(f\"\\nAn unexpected error occurred: {e}\")\n",
    "\n",
    "# Main function to prompt the user for file input and display the chart\n",
    "def main():\n",
    "    print(\"Welcome! This program visualizes sales data with a stacked bar chart.\")\n",
    "\n",
    "    # Prompting the user to enter the file path\n",
    "    file_path = input(\"\\nPlease enter the file path of the CSV file (e.g., 'sales_data.csv'): \")\n",
    "\n",
    "    # Call the function to visualize the sales data\n",
    "    visualize_sales_data(file_path)\n",
    "\n",
    "    print(\"\\nThank you! Your chart has been displayed successfully.\")\n",
    "\n",
    "if __name__ == \"__main__\":\n",
    "    main()\n"
   ]
  },
  {
   "cell_type": "code",
   "execution_count": 12,
   "id": "2f314336-3448-48ca-b407-07420e00b3e1",
   "metadata": {},
   "outputs": [
    {
     "name": "stdout",
     "output_type": "stream",
     "text": [
      "Requirement already satisfied: tabulate in c:\\users\\deven\\appdata\\local\\programs\\python\\python312\\lib\\site-packages (0.9.0)\n",
      "Note: you may need to restart the kernel to use updated packages.\n"
     ]
    },
    {
     "name": "stderr",
     "output_type": "stream",
     "text": [
      "WARNING: Ignoring invalid distribution ~otebook (C:\\Users\\deven\\AppData\\Local\\Programs\\Python\\Python312\\Lib\\site-packages)\n",
      "WARNING: Ignoring invalid distribution ~otebook (C:\\Users\\deven\\AppData\\Local\\Programs\\Python\\Python312\\Lib\\site-packages)\n",
      "WARNING: Ignoring invalid distribution ~otebook (C:\\Users\\deven\\AppData\\Local\\Programs\\Python\\Python312\\Lib\\site-packages)\n"
     ]
    }
   ],
   "source": [
    "pip install tabulate\n"
   ]
  },
  {
   "cell_type": "raw",
   "id": "8a7300f4-d4c6-4048-89de-27066aca9836",
   "metadata": {},
   "source": [
    "Q11. You are given a CSV file containing student data that includes the student ID and their test score. Write\n",
    "a Python program that reads the CSV file, calculates the mean, median, and mode of the test scores, and\n",
    "displays the results in a table.\n",
    "The program should do the followingM\n",
    "I Prompt the user to enter the file path of the CSV file containing the student dataR\n",
    "I Read the CSV file into a Pandas DataFrameR\n",
    "I Calculate the mean, median, and mode of the test scores using Pandas toolsR\n",
    "I Display the mean, median, and mode in a table.\n",
    "Assume the CSV file contains the following columnsM\n",
    "I Student ID: The ID of the studentR\n",
    "I Test Score: The score of the student's test.\n",
    "Example usage of the program:\n",
    "Enter the file path of the CSV file containing the student data: student_data.csv\n",
    "+-----------+--------+\n",
    "| Statistic | Value |\n",
    "+-----------+--------+\n",
    "| Mean | 79.6 |\n",
    "| Median | 82 |\n",
    "| Mode | 85, 90 |\n",
    "+-----------+--------+\n",
    "Assume that the CSV file student_data.csv contains the following data:\n",
    "Student ID,Test Score\n",
    "1,85\n",
    "2,90\n",
    "3,80\n",
    "4,75\n",
    "5,85\n",
    "6,82\n",
    "7,78\n",
    "8,85\n",
    "9,90\n",
    "10,85\n",
    "The program should calculate the mean, median, and mode of the test scores and display the results\n",
    "in a table."
   ]
  },
  {
   "cell_type": "code",
   "execution_count": 13,
   "id": "67b4629b-eb7f-4140-900a-91fc87e2df4f",
   "metadata": {},
   "outputs": [
    {
     "name": "stdout",
     "output_type": "stream",
     "text": [
      "+-------------+---------+\n",
      "| Statistic   |   Value |\n",
      "+=============+=========+\n",
      "| Mean        |    83.5 |\n",
      "+-------------+---------+\n",
      "| Median      |    85   |\n",
      "+-------------+---------+\n",
      "| Mode        |    85   |\n",
      "+-------------+---------+\n"
     ]
    }
   ],
   "source": [
    "import pandas as pd\n",
    "from statistics import mode, StatisticsError\n",
    "from tabulate import tabulate\n",
    "\n",
    "# Define the student data\n",
    "data = {\n",
    "    'Student ID': [1, 2, 3, 4, 5, 6, 7, 8, 9, 10],\n",
    "    'Test Score': [85, 90, 80, 75, 85, 82, 78, 85, 90, 85]\n",
    "}\n",
    "\n",
    "# Creating a DataFrame\n",
    "df = pd.DataFrame(data)\n",
    "\n",
    "# Function to calculate statistics and display in table\n",
    "def calculate_statistics():\n",
    "    # Calculating the mean, median, and mode\n",
    "    mean = df['Test Score'].mean()\n",
    "    median = df['Test Score'].median()\n",
    "    try:\n",
    "        mode_value = mode(df['Test Score'])\n",
    "    except StatisticsError:\n",
    "        mode_value = \"No unique mode\"\n",
    "\n",
    "    # Creating a dictionary to store the results\n",
    "    results = {\n",
    "        'Statistic': ['Mean', 'Median', 'Mode'],\n",
    "        'Value': [mean, median, mode_value]\n",
    "    }\n",
    "\n",
    "    # Displaying the results in a table\n",
    "    print(tabulate(results, headers=\"keys\", tablefmt=\"grid\"))\n",
    "\n",
    "# Call the function to calculate and display the statistics\n",
    "calculate_statistics()\n"
   ]
  },
  {
   "cell_type": "code",
   "execution_count": null,
   "id": "da093064-52ab-4fbc-b6fa-4bd54ba4aa44",
   "metadata": {},
   "outputs": [],
   "source": []
  }
 ],
 "metadata": {
  "kernelspec": {
   "display_name": "Python 3 (ipykernel)",
   "language": "python",
   "name": "python3"
  },
  "language_info": {
   "codemirror_mode": {
    "name": "ipython",
    "version": 3
   },
   "file_extension": ".py",
   "mimetype": "text/x-python",
   "name": "python",
   "nbconvert_exporter": "python",
   "pygments_lexer": "ipython3",
   "version": "3.12.5"
  }
 },
 "nbformat": 4,
 "nbformat_minor": 5
}
