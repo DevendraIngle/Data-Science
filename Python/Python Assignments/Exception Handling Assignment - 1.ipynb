{
 "cells": [
  {
   "cell_type": "markdown",
   "id": "35f0d97c",
   "metadata": {},
   "source": [
    "Q1. What is an Exception in python? Write the differenece between syntax and error"
   ]
  },
  {
   "cell_type": "markdown",
   "id": "72ec2602",
   "metadata": {},
   "source": [
    "In Python, an exception is an event that occurs during the execution of a program that disrupts the normal flow of the program's instructions. When a Python script encounters a situation that it cannot cope with, it raises an exception. These exceptions can be caught and handled gracefully, allowing the program to recover from unexpected situations.\n",
    "\n",
    "The differences between syntax and error:\n",
    "\n",
    "1. **Syntax Error**:\n",
    "   - A syntax error occurs when the Python interpreter encounters code that violates the language grammar rules.\n",
    "   - It's detected during the parsing stage (before the code is executed), because the interpreter cannot understand the code due to incorrect syntax.\n",
    "   - Examples of syntax errors include misspelled keywords, missing parentheses, incorrect indentation, etc.\n",
    "   - Syntax errors are generally easier to identify and fix because they are flagged by the interpreter with specific error messages that indicate where the issue occurred.\n",
    "\n",
    "2. **Exception/Error**:\n",
    "   - An exception (or error) occurs when the Python interpreter encounters a situation during runtime that it cannot handle, even though the syntax of the code is correct.\n",
    "   - Unlike syntax errors, exceptions occur during program execution.\n",
    "   - Exceptions can arise due to various reasons such as division by zero, trying to access an index that doesn't exist in a list, attempting to open a non-existent file, etc.\n",
    "   - Exceptions can be anticipated and handled using try-except blocks, allowing the program to gracefully recover from errors and continue execution.\n",
    "   - Unlike syntax errors, exceptions don't necessarily cause the program to crash immediately; they can be caught and managed, ensuring more robust and fault-tolerant code.\n"
   ]
  },
  {
   "cell_type": "markdown",
   "id": "1cfb1092",
   "metadata": {},
   "source": [
    "Q2). What happens when an exception is not handled ? Explain with an example .\n"
   ]
  },
  {
   "cell_type": "markdown",
   "id": "415d8c1d",
   "metadata": {},
   "source": [
    "\n",
    "When an exception is not handled in a program, it typically results in the program terminating abruptly and displaying an error message to the user. This behavior can disrupt the normal flow of the program and potentially lead to unexpected or undesired outcomes.\n",
    "\n",
    "for example: \n"
   ]
  },
  {
   "cell_type": "code",
   "execution_count": 1,
   "id": "a21f223a",
   "metadata": {},
   "outputs": [
    {
     "ename": "ZeroDivisionError",
     "evalue": "division by zero",
     "output_type": "error",
     "traceback": [
      "\u001b[1;31m---------------------------------------------------------------------------\u001b[0m",
      "\u001b[1;31mZeroDivisionError\u001b[0m                         Traceback (most recent call last)",
      "Cell \u001b[1;32mIn[1], line 7\u001b[0m\n\u001b[0;32m      4\u001b[0m     \u001b[38;5;28;01mreturn\u001b[39;00m x \u001b[38;5;241m/\u001b[39m y\n\u001b[0;32m      6\u001b[0m \u001b[38;5;66;03m# This function will raise a ZeroDivisionError if y is 0\u001b[39;00m\n\u001b[1;32m----> 7\u001b[0m result \u001b[38;5;241m=\u001b[39m \u001b[43mdivide\u001b[49m\u001b[43m(\u001b[49m\u001b[38;5;241;43m10\u001b[39;49m\u001b[43m,\u001b[49m\u001b[43m \u001b[49m\u001b[38;5;241;43m0\u001b[39;49m\u001b[43m)\u001b[49m\n\u001b[0;32m      8\u001b[0m \u001b[38;5;28mprint\u001b[39m(\u001b[38;5;124m\"\u001b[39m\u001b[38;5;124mResult:\u001b[39m\u001b[38;5;124m\"\u001b[39m, result)\n",
      "Cell \u001b[1;32mIn[1], line 4\u001b[0m, in \u001b[0;36mdivide\u001b[1;34m(x, y)\u001b[0m\n\u001b[0;32m      3\u001b[0m \u001b[38;5;28;01mdef\u001b[39;00m \u001b[38;5;21mdivide\u001b[39m(x, y):\n\u001b[1;32m----> 4\u001b[0m     \u001b[38;5;28;01mreturn\u001b[39;00m \u001b[43mx\u001b[49m\u001b[43m \u001b[49m\u001b[38;5;241;43m/\u001b[39;49m\u001b[43m \u001b[49m\u001b[43my\u001b[49m\n",
      "\u001b[1;31mZeroDivisionError\u001b[0m: division by zero"
     ]
    }
   ],
   "source": [
    "# Example without exception handling\n",
    "\n",
    "def divide(x, y):\n",
    "    return x / y\n",
    "\n",
    "# This function will raise a ZeroDivisionError if y is 0\n",
    "result = divide(10, 0)\n",
    "print(\"Result:\", result)\n",
    "\n"
   ]
  },
  {
   "cell_type": "markdown",
   "id": "9fc8a1a3",
   "metadata": {},
   "source": [
    "To handle this exception and provide a more graceful response to the user, we can use a try-except block to catch and handle the exception:"
   ]
  },
  {
   "cell_type": "code",
   "execution_count": 2,
   "id": "76c30f61",
   "metadata": {},
   "outputs": [
    {
     "name": "stdout",
     "output_type": "stream",
     "text": [
      "Error: Cannot divide by zero!\n"
     ]
    }
   ],
   "source": [
    "\n",
    "def divide(x, y):\n",
    "    try:\n",
    "        result = x / y\n",
    "    except ZeroDivisionError:\n",
    "        print(\"Error: Cannot divide by zero!\")\n",
    "        result = None\n",
    "    return result\n",
    "\n",
    "# Attempting division with exception handling\n",
    "result = divide(10, 0)\n",
    "if result is not None:\n",
    "    print(\"Result:\", result)\n"
   ]
  },
  {
   "cell_type": "markdown",
   "id": "87fbaff0",
   "metadata": {},
   "source": [
    "Q3). Which python statement is used to catch and handling exception ? Explain with an example."
   ]
  },
  {
   "cell_type": "markdown",
   "id": "ab3e346f",
   "metadata": {},
   "source": [
    "\n",
    "In Python, the **try** and **except** statements are used together to catch and handle exceptions. The try block contains the code where exceptions might occur, and the except block specifies how to handle those exceptions if they occur.\n",
    "\n",
    "Here's an example of try and except:"
   ]
  },
  {
   "cell_type": "code",
   "execution_count": 6,
   "id": "5e2d9d70",
   "metadata": {},
   "outputs": [
    {
     "name": "stdout",
     "output_type": "stream",
     "text": [
      "Result1: 5.0\n",
      "Error: Cannot divide by zero!\n",
      "Result2: None\n"
     ]
    }
   ],
   "source": [
    "def divide(x, y):\n",
    "    try:\n",
    "        result = x / y\n",
    "    except ZeroDivisionError:\n",
    "        print(\"Error: Cannot divide by zero!\")\n",
    "        result = None\n",
    "    return result\n",
    "\n",
    "# Attempting division with exception handling\n",
    "result1 = divide(10, 2)  # No exception\n",
    "print(\"Result1:\", result1)\n",
    "\n",
    "result2 = divide(10, 0)  # Exception occurs (ZeroDivisionError)\n",
    "print(\"Result2:\", result2)  # Result2 will be None due to exception handling\n"
   ]
  },
  {
   "cell_type": "markdown",
   "id": "8781d4a4",
   "metadata": {},
   "source": [
    "Q4). Explain with an Example.\n",
    "\n",
    "1. try and else\n",
    "2. finally\n",
    "3. raise"
   ]
  },
  {
   "cell_type": "markdown",
   "id": "a2cc365c",
   "metadata": {},
   "source": [
    "1. try, except, and else:\n",
    "The else block in Python's exception handling structure executes if no exceptions occur in the try block. It's often used to contain code that should run only if no exceptions were raised."
   ]
  },
  {
   "cell_type": "code",
   "execution_count": 9,
   "id": "cbeb1631",
   "metadata": {},
   "outputs": [
    {
     "name": "stdout",
     "output_type": "stream",
     "text": [
      "Division successful!\n",
      "Result1: 5.0\n",
      "Error: Cannot divide by zero!\n",
      "Result2: None\n"
     ]
    }
   ],
   "source": [
    "def divide(x, y):\n",
    "    try:\n",
    "        result = x / y\n",
    "    except ZeroDivisionError:\n",
    "        print(\"Error: Cannot divide by zero!\")\n",
    "        result = None\n",
    "    else:\n",
    "        print(\"Division successful!\")\n",
    "    return result\n",
    "\n",
    "# Attempting division with exception handling\n",
    "result1 = divide(10, 2)  # No exception\n",
    "print(\"Result1:\", result1)\n",
    "\n",
    "result2 = divide(10, 0)  # Exception occurs (ZeroDivisionError)\n",
    "print(\"Result2:\", result2)  # Result2 will be None due to exception handling\n"
   ]
  },
  {
   "cell_type": "markdown",
   "id": "e75e5701",
   "metadata": {},
   "source": [
    "2. finally:\n",
    "The finally block is used to execute cleanup code, such as closing files or releasing resources, regardless of whether an exception occurred or not."
   ]
  },
  {
   "cell_type": "code",
   "execution_count": 10,
   "id": "3a474d98",
   "metadata": {},
   "outputs": [
    {
     "name": "stdout",
     "output_type": "stream",
     "text": [
      "Error: File 'example.txt' not found.\n",
      "Error: File 'nonexistent_file.txt' not found.\n"
     ]
    }
   ],
   "source": [
    "def open_and_read_file(filename):\n",
    "    try:\n",
    "        file = open(filename, 'r')\n",
    "        content = file.read()\n",
    "        print(\"File content:\", content)\n",
    "    except FileNotFoundError:\n",
    "        print(f\"Error: File '{filename}' not found.\")\n",
    "    finally:\n",
    "        if 'file' in locals():\n",
    "            file.close()  # Close the file even if an exception occurred\n",
    "\n",
    "# Attempting to read a file\n",
    "open_and_read_file('example.txt')  # File exists\n",
    "open_and_read_file('nonexistent_file.txt')  # File does not exist\n"
   ]
  },
  {
   "cell_type": "markdown",
   "id": "e5e108e7",
   "metadata": {},
   "source": [
    "3. raise:\n",
    "The raise statement is used to explicitly raise an exception.\n",
    "The raise statement in Python is used to explicitly raise an exception. It allows you to trigger an exception manually under specific conditions, rather than relying on Python's built-in exception handling mechanisms."
   ]
  },
  {
   "cell_type": "code",
   "execution_count": 11,
   "id": "099e7e37",
   "metadata": {},
   "outputs": [
    {
     "name": "stdout",
     "output_type": "stream",
     "text": [
      "Error: Age cannot be negative.\n",
      "Error: Must be 18 or older.\n",
      "Age is valid.\n"
     ]
    }
   ],
   "source": [
    "# Example of using raise\n",
    "\n",
    "def validate_age(age):\n",
    "    if age < 0:\n",
    "        raise ValueError(\"Age cannot be negative.\")\n",
    "    elif age < 18:\n",
    "        raise ValueError(\"Must be 18 or older.\")\n",
    "    else:\n",
    "        print(\"Age is valid.\")\n",
    "\n",
    "# Validating age\n",
    "try:\n",
    "    validate_age(-5)\n",
    "except ValueError as e:\n",
    "    print(\"Error:\", e)\n",
    "\n",
    "try:\n",
    "    validate_age(15)\n",
    "except ValueError as e:\n",
    "    print(\"Error:\", e)\n",
    "\n",
    "try:\n",
    "    validate_age(25)\n",
    "except ValueError as e:\n",
    "    print(\"Error:\", e)\n"
   ]
  },
  {
   "cell_type": "code",
   "execution_count": 14,
   "id": "779a7fd5",
   "metadata": {},
   "outputs": [
    {
     "name": "stdout",
     "output_type": "stream",
     "text": [
      "Object `example` not found.\n"
     ]
    }
   ],
   "source": [
    "Q5. what are the customs execptions in python ? why do we need custom exception ? Explain with an example?"
   ]
  },
  {
   "cell_type": "markdown",
   "id": "90949f8f",
   "metadata": {},
   "source": [
    "\n",
    "Custom exceptions in Python are user-defined exception classes that inherit from Python's built-in Exception class or any other built-in exception class. They allow developers to define specific types of errors or exceptional conditions that are relevant to their application or library.\n",
    "\n",
    "**Why do we need custom exceptions?**\n",
    "Clarity and Readability: Custom exceptions provide meaningful names for specific errors or exceptional situations in your codebase. This improves the clarity and readability of your code, making it easier for other developers (including your future self) to understand the intent and purpose of the raised exceptions.\n",
    "\n",
    "1.  Granularity: Custom exceptions allow you to define different types of errors based on the context of   our application. Instead of relying solely on generic built-in exceptions, you can create custom exceptions tailored to specific scenarios, providing more granular control over error handling.\n",
    "\n",
    "2.  Modularity and Maintainability: By organizing related exceptions into custom exception classes, you can achieve better modularity and maintainability in your codebase. Custom exceptions help encapsulate error-handling logic, making it easier to manage and update error handling behavior as your application evolves.\n",
    "\n",
    "3.  Integration with Libraries: Custom exceptions are particularly useful when developing libraries or frameworks. They allow library authors to define and document specific error conditions that users of the library can anticipate and handle gracefully in their own code."
   ]
  },
  {
   "cell_type": "markdown",
   "id": "e36a581f",
   "metadata": {},
   "source": [
    "Example:\n",
    "Let's consider a simple example of a custom exception for a hypothetical banking application. We'll create a custom exception class called InsufficientFundsError, which will be raised when a user attempts to withdraw more money from their account than they have available."
   ]
  },
  {
   "cell_type": "code",
   "execution_count": 13,
   "id": "3266c5bf",
   "metadata": {},
   "outputs": [
    {
     "name": "stdout",
     "output_type": "stream",
     "text": [
      "Error: Insufficient funds: Cannot withdraw $1500. Account balance is $1000.\n"
     ]
    }
   ],
   "source": [
    "class InsufficientFundsError(Exception):\n",
    "    \"\"\"Exception raised when an account has insufficient funds.\"\"\"\n",
    "\n",
    "    def __init__(self, amount, balance):\n",
    "        self.amount = amount\n",
    "        self.balance = balance\n",
    "        message = f\"Insufficient funds: Cannot withdraw ${amount}. Account balance is ${balance}.\"\n",
    "        super().__init__(message)\n",
    "\n",
    "class BankAccount:\n",
    "    def __init__(self, balance):\n",
    "        self.balance = balance\n",
    "\n",
    "    def withdraw(self, amount):\n",
    "        if amount > self.balance:\n",
    "            raise InsufficientFundsError(amount, self.balance)\n",
    "        else:\n",
    "            self.balance -= amount\n",
    "            print(f\"Withdrew ${amount}. Remaining balance: ${self.balance}\")\n",
    "\n",
    "# Example usage:\n",
    "account_balance = 1000\n",
    "account = BankAccount(account_balance)\n",
    "\n",
    "try:\n",
    "    account.withdraw(1500)\n",
    "except InsufficientFundsError as e:\n",
    "    print(\"Error:\", e)\n"
   ]
  },
  {
   "cell_type": "markdown",
   "id": "c1c4e40e",
   "metadata": {},
   "source": [
    "Q6. Create custom exception class. use this class to handling exception ?"
   ]
  },
  {
   "cell_type": "markdown",
   "id": "38a8aa1b",
   "metadata": {},
   "source": [
    "Custom exceptions in Python are user-defined exception classes that inherit from the built-in Exception class or any other built-in exception class. They allow developers to define their own types of exceptions to handle specific error conditions in their programs more effectively.\n",
    "\n",
    "We need custom exceptions in Python for several reasons:\n",
    "\n",
    "1. Improved Readability: Custom exceptions can provide descriptive names for specific error conditions, making the code more readable and self-explanatory.\n",
    "\n",
    "2. Precise Error Handling: By defining custom exception classes, developers can precisely identify and handle different types of errors or exceptional situations in their code.\n",
    "\n",
    "3. Modularity and Reusability: Custom exceptions promote modularity and code reuse. Once defined, they can be reused across multiple parts of the program or even across different projects.\n",
    "\n",
    "4. Debugging and Maintenance: Custom exceptions can simplify debugging and maintenance by providing clear error messages and guiding developers to the source of the problem."
   ]
  },
  {
   "cell_type": "code",
   "execution_count": 15,
   "id": "95032b8e",
   "metadata": {},
   "outputs": [
    {
     "name": "stdout",
     "output_type": "stream",
     "text": [
      "Error: Insufficient funds: Cannot withdraw $1500. Account balance is $1000.\n"
     ]
    }
   ],
   "source": [
    "class InsufficientFundsError(Exception):\n",
    "    \"\"\"Exception raised when an account has insufficient funds.\"\"\"\n",
    "\n",
    "    def __init__(self, amount, balance):\n",
    "        self.amount = amount\n",
    "        self.balance = balance\n",
    "        message = f\"Insufficient funds: Cannot withdraw ${amount}. Account balance is ${balance}.\"\n",
    "        super().__init__(message)\n",
    "\n",
    "class BankAccount:\n",
    "    def __init__(self, balance):\n",
    "        self.balance = balance\n",
    "\n",
    "    def withdraw(self, amount):\n",
    "        if amount > self.balance:\n",
    "            raise InsufficientFundsError(amount, self.balance)\n",
    "        else:\n",
    "            self.balance -= amount\n",
    "            print(f\"Withdrew ${amount}. Remaining balance: ${self.balance}\")\n",
    "\n",
    "# Example usage:\n",
    "account_balance = 1000\n",
    "account = BankAccount(account_balance)\n",
    "\n",
    "try:\n",
    "    account.withdraw(1500)\n",
    "except InsufficientFundsError as e:\n",
    "    print(\"Error:\", e)\n"
   ]
  },
  {
   "cell_type": "code",
   "execution_count": null,
   "id": "09d642bd",
   "metadata": {},
   "outputs": [],
   "source": []
  }
 ],
 "metadata": {
  "kernelspec": {
   "display_name": "Python 3 (ipykernel)",
   "language": "python",
   "name": "python3"
  },
  "language_info": {
   "codemirror_mode": {
    "name": "ipython",
    "version": 3
   },
   "file_extension": ".py",
   "mimetype": "text/x-python",
   "name": "python",
   "nbconvert_exporter": "python",
   "pygments_lexer": "ipython3",
   "version": "3.11.4"
  }
 },
 "nbformat": 4,
 "nbformat_minor": 5
}
