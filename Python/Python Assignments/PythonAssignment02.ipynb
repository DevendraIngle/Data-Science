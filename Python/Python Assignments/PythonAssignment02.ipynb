{
 "cells": [
  {
   "cell_type": "markdown",
   "id": "3f257a0c",
   "metadata": {},
   "source": [
    "# Assignement 2\n"
   ]
  },
  {
   "cell_type": "markdown",
   "id": "77dc93ce",
   "metadata": {},
   "source": [
    " Q 1. How do you comment code in Python? What are the different types of comments?"
   ]
  },
  {
   "cell_type": "markdown",
   "id": "154c9ec6",
   "metadata": {},
   "source": [
    "In Python, you can add comments to your code to provide explanations, notes, or documentation for yourself or other developers. Comments are not executed by the Python interpreter; they are simply ignored. Python supports two types of comments:\n",
    "\n",
    "1 .Single-Line Comments:\n",
    "\n",
    "Single-line comments are used for adding comments on a single line of code. In Python, you can create a single-line comment using the hash symbol (#). Anything following the # on the same line is considered a comment and will not be executed by Python."
   ]
  },
  {
   "cell_type": "code",
   "execution_count": 1,
   "id": "86a146eb",
   "metadata": {},
   "outputs": [
    {
     "name": "stdout",
     "output_type": "stream",
     "text": [
      "Hello, World!\n"
     ]
    }
   ],
   "source": [
    "# This is a single-line comment\n",
    "print(\"Hello, World!\")  # This is another comment"
   ]
  },
  {
   "cell_type": "markdown",
   "id": "61982ac8",
   "metadata": {},
   "source": [
    "2 .Multi-Line Comments (Docstrings):\n",
    "Python does not have a built-in syntax for traditional multi-line comments like some other programming languages. However, you can use multi-line strings (triple-quoted strings) as a way to create multi-line comments. These are often used for docstrings, which provide documentation for functions, classes, and modules."
   ]
  },
  {
   "cell_type": "code",
   "execution_count": 2,
   "id": "e72708f3",
   "metadata": {},
   "outputs": [],
   "source": [
    "\"\"\"\n",
    "This is a multi-line comment using triple-quoted string.\n",
    "It is typically used as a docstring to document functions, classes, or modules.\n",
    "\"\"\"\n",
    "\n",
    "def my_function():\n",
    "    \"\"\"\n",
    "    This is a docstring for a function.\n",
    "    It provides information about what the function does, its parameters, and return values.\n",
    "    \"\"\"\n",
    "    pass"
   ]
  },
  {
   "cell_type": "markdown",
   "id": "a49cb500",
   "metadata": {},
   "source": [
    "Q2. What are variables in Python? How do you declare and assign values to variables?"
   ]
  },
  {
   "cell_type": "markdown",
   "id": "5a50b6e7",
   "metadata": {},
   "source": [
    "In Python, variables are used to store and manage data or values in your programs. Variables provide a way to label and reference data, making it easier to work with and manipulate information in your code. Here's how you declare and assign values to variables in Python:\n",
    "\n",
    "1 . Declaring Variables:\n",
    "In Python, you don't need to explicitly declare a variable before using it. You can simply assign a value to a variable name, and Python will create the variable for you. Variable names must follow some rules:\n",
    "\n",
    "They must start with a letter (a-z, A-Z) or an underscore (_).\n",
    "The rest of the name can consist of letters, numbers (0-9), or underscores.\n",
    "Variable names are case-sensitive (e.g., myVariable and myvariable are treated as different variables).\n",
    "Examples of variable declarations:\n"
   ]
  },
  {
   "cell_type": "code",
   "execution_count": 4,
   "id": "5e2fd297",
   "metadata": {},
   "outputs": [],
   "source": [
    "my_variable = 42            # Assign an integer value\n",
    "name = \"John Doe\"           # Assign a string value\n",
    "is_approved = True          # Assign a boolean value\n",
    "pi_value = 3.14159          # Assign a floating-point value"
   ]
  },
  {
   "cell_type": "markdown",
   "id": "7c8019fd",
   "metadata": {},
   "source": [
    "Assigning Values to Variables:\n",
    "You can assign values to variables using the assignment operator (=). The value on the right side of the = is assigned to the variable on the left side."
   ]
  },
  {
   "cell_type": "code",
   "execution_count": 5,
   "id": "27eb8e60",
   "metadata": {},
   "outputs": [],
   "source": [
    "x = 10       # Assigns the integer 10 to the variable 'x'\n",
    "name = \"Alice\"  # Assigns the string \"Alice\" to the variable 'name'"
   ]
  },
  {
   "cell_type": "markdown",
   "id": "f8b42565",
   "metadata": {},
   "source": [
    "Multiple Assignments:\n",
    "Python allows you to assign multiple variables in a single line using multiple assignment."
   ]
  },
  {
   "cell_type": "code",
   "execution_count": 6,
   "id": "a424a400",
   "metadata": {},
   "outputs": [],
   "source": [
    "a, b, c = 1, 2, 3  # Assigns 1 to 'a', 2 to 'b', and 3 to 'c'\n"
   ]
  },
  {
   "cell_type": "markdown",
   "id": "a03ad008",
   "metadata": {},
   "source": [
    "Reassigning Variables:\n",
    "You can change the value of a variable by simply assigning a new value to it."
   ]
  },
  {
   "cell_type": "code",
   "execution_count": 8,
   "id": "86483fe1",
   "metadata": {},
   "outputs": [],
   "source": [
    "x = 5         # Assigns 5 to 'x'\n",
    "x = x + 1     # Increments 'x' by 1, now 'x' is 6"
   ]
  },
  {
   "cell_type": "markdown",
   "id": "e2200641",
   "metadata": {},
   "source": [
    "Variable Naming Conventions:\n",
    "It's a good practice to follow naming conventions when naming your variables to make your code more readable. Common conventions include using lowercase letters for variable names and separating words with underscores (snake_case) for better readability."
   ]
  },
  {
   "cell_type": "code",
   "execution_count": 11,
   "id": "308172ab",
   "metadata": {},
   "outputs": [],
   "source": [
    "my_variable_name = \"some value\"\n"
   ]
  },
  {
   "cell_type": "markdown",
   "id": "34b7ebba",
   "metadata": {},
   "source": [
    "Variables in Python can hold a wide range of data types, including integers, floating-point numbers, strings, booleans, lists, dictionaries, and more. The type of a variable is determined by the value it holds, and Python is dynamically typed, meaning you don't need to specify the data type when declaring a variable; Python determines it for you based on the assigned value."
   ]
  },
  {
   "cell_type": "markdown",
   "id": "8aa7bcb2",
   "metadata": {},
   "source": [
    "Q3. How do you convert one data type to another in Python?"
   ]
  },
  {
   "cell_type": "markdown",
   "id": "4e52fbf9",
   "metadata": {},
   "source": [
    "In Python, you can convert one data type to another using type conversion functions or constructors. "
   ]
  },
  {
   "cell_type": "markdown",
   "id": "232e007c",
   "metadata": {},
   "source": [
    "1 .Implicit Type Conversion (Coercion):\n",
    "Python automatically performs some type conversions when it's safe to do so. For example, when you perform operations involving different data types, Python may implicitly convert one or both operands to a common data type before performing the operation."
   ]
  },
  {
   "cell_type": "code",
   "execution_count": 12,
   "id": "fed5c951",
   "metadata": {},
   "outputs": [],
   "source": [
    "x = 5       # Integer\n",
    "y = 2.0     # Floating-point number\n",
    "z = x + y   # Implicitly converts 'x' to a float, result is 7.0\n"
   ]
  },
  {
   "cell_type": "markdown",
   "id": "5d6af36d",
   "metadata": {},
   "source": [
    "2 .Explicit Type Conversion (Type Casting):\n",
    "You can explicitly convert one data type to another using type casting functions. Here are some common type casting functions:"
   ]
  },
  {
   "cell_type": "markdown",
   "id": "88a36213",
   "metadata": {},
   "source": [
    "int(): Converts a value to an integer."
   ]
  },
  {
   "cell_type": "code",
   "execution_count": 13,
   "id": "2cc33e41",
   "metadata": {},
   "outputs": [],
   "source": [
    "x = 3.5\n",
    "y = int(x)  # Converts 'x' to 3 (truncates decimal part)\n"
   ]
  },
  {
   "cell_type": "markdown",
   "id": "760cb507",
   "metadata": {},
   "source": [
    "float(): Converts a value to a floating-point number.\n",
    "\n"
   ]
  },
  {
   "cell_type": "code",
   "execution_count": 15,
   "id": "a36b1c6e",
   "metadata": {},
   "outputs": [],
   "source": [
    "x = 42\n",
    "y = float(x)  # Converts 'x' to 42.0\n"
   ]
  },
  {
   "cell_type": "markdown",
   "id": "6fd8a95c",
   "metadata": {},
   "source": [
    "str(): Converts a value to a string.\n",
    "\n"
   ]
  },
  {
   "cell_type": "code",
   "execution_count": 16,
   "id": "6e1fd57c",
   "metadata": {},
   "outputs": [],
   "source": [
    "x = 100\n",
    "y = str(x)  # Converts 'x' to \"100\"\n"
   ]
  },
  {
   "cell_type": "markdown",
   "id": "e0040000",
   "metadata": {},
   "source": [
    "bool(): Converts a value to a boolean."
   ]
  },
  {
   "cell_type": "code",
   "execution_count": 17,
   "id": "391ceefa",
   "metadata": {},
   "outputs": [],
   "source": [
    "x = 0\n",
    "y = bool(x)  # Converts 'x' to False (0 is False in Python)\n"
   ]
  },
  {
   "cell_type": "markdown",
   "id": "8cbbfcf9",
   "metadata": {},
   "source": [
    "3 .Using Constructor Functions:\n",
    "You can also use constructor functions to create objects of one data type from another data type. For example:\n",
    "\n",
    "list(): Converts an iterable (e.g., tuple, string) to a list."
   ]
  },
  {
   "cell_type": "code",
   "execution_count": 18,
   "id": "2a439d72",
   "metadata": {},
   "outputs": [],
   "source": [
    "my_tuple = (1, 2, 3)\n",
    "my_list = list(my_tuple)  # Converts 'my_tuple' to [1, 2, 3]\n"
   ]
  },
  {
   "cell_type": "markdown",
   "id": "37bbaac6",
   "metadata": {},
   "source": [
    "tuple(): Converts an iterable to a tuple."
   ]
  },
  {
   "cell_type": "code",
   "execution_count": 20,
   "id": "98e006bc",
   "metadata": {},
   "outputs": [],
   "source": [
    "my_list = [4, 5, 6]\n",
    "my_tuple = tuple(my_list)  # Converts 'my_list' to (4, 5, 6)\n"
   ]
  },
  {
   "cell_type": "markdown",
   "id": "6a1f5bb5",
   "metadata": {},
   "source": [
    "4 .Using Built-in Functions:\n",
    "Python provides built-in functions for converting between data types for certain types of data. For example:\n",
    "\n",
    "int(), float(), and str() functions can also be used to convert strings that represent numbers to their respective numeric data types."
   ]
  },
  {
   "cell_type": "code",
   "execution_count": 21,
   "id": "eecfccf3",
   "metadata": {},
   "outputs": [],
   "source": [
    "x = \"42\"\n",
    "y = int(x)  # Converts 'x' to 42 as an integer\n"
   ]
  },
  {
   "cell_type": "markdown",
   "id": "5f6d00e6",
   "metadata": {},
   "source": [
    "Q4. How do you write and execute a Python script from the command line?"
   ]
  },
  {
   "cell_type": "markdown",
   "id": "c9609534",
   "metadata": {},
   "source": [
    "Open a Text Editor: You can use any text editor to write Python scripts. Common choices include Notepad (on Windows), Visual Studio Code, Sublime Text, Atom, or even a terminal-based text editor like Nano or Vim."
   ]
  },
  {
   "cell_type": "markdown",
   "id": "26020d67",
   "metadata": {},
   "source": [
    "Write Your Python Code: Write your Python code in the text editor. You can create a simple Python script with a few lines of code, or you can write a more complex program.\n",
    "\n",
    "Example script (hello.py):"
   ]
  },
  {
   "cell_type": "code",
   "execution_count": 23,
   "id": "44d8669e",
   "metadata": {},
   "outputs": [
    {
     "name": "stdout",
     "output_type": "stream",
     "text": [
      "Hello, World!\n"
     ]
    }
   ],
   "source": [
    "print(\"Hello, World!\")\n"
   ]
  },
  {
   "cell_type": "markdown",
   "id": "47d67d67",
   "metadata": {},
   "source": [
    "Save Your Script: Save your Python script with a .py extension. In our example, you can save it as hello.py. Make sure to remember or note the directory where you save the script."
   ]
  },
  {
   "cell_type": "markdown",
   "id": "18f48c9c",
   "metadata": {},
   "source": [
    "1 .Executing a Python Script from the Command Line:\n",
    "\n",
    "After writing your Python script, you can execute it from the command line as follows:\n",
    "\n",
    "Open a Command Prompt (Windows) or Terminal (macOS and Linux): This is where you'll run your Python script.\n",
    "\n",
    "2 .Navigate to the Script Directory (if necessary): If your script is not in the current directory (folder) you are in, use the cd command to navigate to the directory where your script is located.\n",
    "\n",
    "Example (if your script is on the desktop):"
   ]
  },
  {
   "cell_type": "markdown",
   "id": "011efb57",
   "metadata": {},
   "source": [
    "3 .Run the Python Script: To execute your Python script, use the python command followed by the name of your script file.\n",
    "\n",
    "Example:"
   ]
  },
  {
   "cell_type": "code",
   "execution_count": null,
   "id": "b1aec6ae",
   "metadata": {},
   "outputs": [],
   "source": [
    "python hello.py\n"
   ]
  },
  {
   "cell_type": "markdown",
   "id": "9a0e819e",
   "metadata": {},
   "source": [
    "This command tells Python to run the hello.py script. If everything is correct, you will see the output of your script in the terminal."
   ]
  },
  {
   "cell_type": "markdown",
   "id": "3436a8ee",
   "metadata": {},
   "source": [
    " Q5 .Given a list my_list = [1, 2, 3, 4, 5], write the code to slice the list and obtain the sub-list [2, 3]"
   ]
  },
  {
   "cell_type": "code",
   "execution_count": 4,
   "id": "a94b1ad2",
   "metadata": {},
   "outputs": [],
   "source": [
    "my_list = [1,2,3,4,5]"
   ]
  },
  {
   "cell_type": "code",
   "execution_count": 6,
   "id": "417e0b30",
   "metadata": {},
   "outputs": [
    {
     "data": {
      "text/plain": [
       "[2, 3]"
      ]
     },
     "execution_count": 6,
     "metadata": {},
     "output_type": "execute_result"
    }
   ],
   "source": [
    "my_list[1:3]"
   ]
  },
  {
   "cell_type": "markdown",
   "id": "8a15a493",
   "metadata": {},
   "source": [
    "Q6. What is a complex number in mathematics, and how is it represented in Python?\n"
   ]
  },
  {
   "cell_type": "markdown",
   "id": "225c4cae",
   "metadata": {},
   "source": [
    "In mathematics, a complex number is a number that can be expressed in the form \"a + bi,\" where \"a\" and \"b\" are real numbers, and \"i\" is the imaginary unit, which is defined as the square root of -1. The real part \"a\" represents the real component of the complex number, and the imaginary part \"bi\" represents the imaginary component. "
   ]
  },
  {
   "cell_type": "code",
   "execution_count": 11,
   "id": "35eb52f4",
   "metadata": {},
   "outputs": [],
   "source": [
    "# Creating complex numbers\n",
    "z1 = 3 + 4j  # 3 + 4i in mathematical notation\n",
    "z2 = 2 - 5j  # 2 - 5i"
   ]
  },
  {
   "cell_type": "code",
   "execution_count": 13,
   "id": "b88cc6bf",
   "metadata": {},
   "outputs": [
    {
     "name": "stdout",
     "output_type": "stream",
     "text": [
      "(3+4j) (2-5j)\n"
     ]
    }
   ],
   "source": [
    "print (z1,z2)"
   ]
  },
  {
   "cell_type": "markdown",
   "id": "317a4376",
   "metadata": {},
   "source": [
    "Q7. What is the correct way to declare a variable named age and assign the value 25 to it?\n"
   ]
  },
  {
   "cell_type": "code",
   "execution_count": 14,
   "id": "d7682eb1",
   "metadata": {},
   "outputs": [],
   "source": [
    "age = 25 # this is the correct way"
   ]
  },
  {
   "cell_type": "markdown",
   "id": "f678c84c",
   "metadata": {},
   "source": [
    "Q8. Declare a variable named price and assign the value 9.99 to it. What data type does this variable \n",
    "belong to?"
   ]
  },
  {
   "cell_type": "code",
   "execution_count": 15,
   "id": "f7311980",
   "metadata": {},
   "outputs": [],
   "source": [
    "price = 9.99"
   ]
  },
  {
   "cell_type": "code",
   "execution_count": 16,
   "id": "ad0ed5cc",
   "metadata": {},
   "outputs": [
    {
     "data": {
      "text/plain": [
       "float"
      ]
     },
     "execution_count": 16,
     "metadata": {},
     "output_type": "execute_result"
    }
   ],
   "source": [
    "type(price)"
   ]
  },
  {
   "cell_type": "markdown",
   "id": "45dfbcda",
   "metadata": {},
   "source": [
    "Q9. Create a variable named name and assign your full name to it as a string. How would you print the \n",
    "value of this variable?"
   ]
  },
  {
   "cell_type": "code",
   "execution_count": 17,
   "id": "ba3d18bc",
   "metadata": {},
   "outputs": [],
   "source": [
    "name = \"Devendra Ingle\""
   ]
  },
  {
   "cell_type": "code",
   "execution_count": 19,
   "id": "9144f943",
   "metadata": {},
   "outputs": [
    {
     "name": "stdout",
     "output_type": "stream",
     "text": [
      "Devendra Ingle\n"
     ]
    }
   ],
   "source": [
    "print (name)"
   ]
  },
  {
   "cell_type": "markdown",
   "id": "2776d8cf",
   "metadata": {},
   "source": [
    "Q10. Given the string \"Hello, World!\", extract the substring \"World\""
   ]
  },
  {
   "cell_type": "code",
   "execution_count": 21,
   "id": "768d575d",
   "metadata": {},
   "outputs": [],
   "source": [
    "string = \"Hellow, World!\""
   ]
  },
  {
   "cell_type": "code",
   "execution_count": 24,
   "id": "2b354c38",
   "metadata": {},
   "outputs": [
    {
     "data": {
      "text/plain": [
       "'World'"
      ]
     },
     "execution_count": 24,
     "metadata": {},
     "output_type": "execute_result"
    }
   ],
   "source": [
    "string[8:13]"
   ]
  },
  {
   "cell_type": "markdown",
   "id": "afb581ad",
   "metadata": {},
   "source": [
    "Q11. Create a variable named \"is_student\" and assign it a boolean value indicating whether you are \n",
    "currently a student or not."
   ]
  },
  {
   "cell_type": "code",
   "execution_count": 30,
   "id": "b388a9f9",
   "metadata": {},
   "outputs": [],
   "source": [
    "is_student = False  #if you are currently student "
   ]
  },
  {
   "cell_type": "code",
   "execution_count": 31,
   "id": "89eb9264",
   "metadata": {},
   "outputs": [],
   "source": [
    "is_student = True #if you are not currently student"
   ]
  },
  {
   "cell_type": "code",
   "execution_count": 32,
   "id": "0b499d8e",
   "metadata": {},
   "outputs": [
    {
     "name": "stdout",
     "output_type": "stream",
     "text": [
      "True\n"
     ]
    }
   ],
   "source": [
    "print(is_student)"
   ]
  },
  {
   "cell_type": "code",
   "execution_count": null,
   "id": "4727b7d3",
   "metadata": {},
   "outputs": [],
   "source": []
  }
 ],
 "metadata": {
  "kernelspec": {
   "display_name": "Python 3 (ipykernel)",
   "language": "python",
   "name": "python3"
  },
  "language_info": {
   "codemirror_mode": {
    "name": "ipython",
    "version": 3
   },
   "file_extension": ".py",
   "mimetype": "text/x-python",
   "name": "python",
   "nbconvert_exporter": "python",
   "pygments_lexer": "ipython3",
   "version": "3.11.4"
  }
 },
 "nbformat": 4,
 "nbformat_minor": 5
}
