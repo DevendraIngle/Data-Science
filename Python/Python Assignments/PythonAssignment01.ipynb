{
 "cells": [
  {
   "cell_type": "markdown",
   "id": "1183e019",
   "metadata": {},
   "source": [
    "# Python Assignment 01"
   ]
  },
  {
   "cell_type": "markdown",
   "id": "792b8216-10b0-44be-b051-ae8e1089b973",
   "metadata": {
    "tags": []
   },
   "source": [
    "Q1. Create one variable containing following type of data:\n",
    "\n",
    "(i)\tstring\n",
    "\n",
    "(ii)\tlist\n",
    "\n",
    "(iii)\tfloat\n",
    "\n",
    "(iv)\ttuple"
   ]
  },
  {
   "cell_type": "markdown",
   "id": "cbbea506-8ed3-4d38-a364-631da92fff5f",
   "metadata": {},
   "source": [
    "Solution Q1"
   ]
  },
  {
   "cell_type": "markdown",
   "id": "1bf0b1cb-53de-4c2d-8414-a857a5ba0163",
   "metadata": {},
   "source": [
    "(i) string"
   ]
  },
  {
   "cell_type": "code",
   "execution_count": 1,
   "id": "391822b7-604b-4d87-bb19-30cfe5a738f8",
   "metadata": {},
   "outputs": [],
   "source": [
    "a = \"my name is monu\""
   ]
  },
  {
   "cell_type": "code",
   "execution_count": 2,
   "id": "397e9cea-5d84-4944-ab5e-cc992670824e",
   "metadata": {},
   "outputs": [
    {
     "data": {
      "text/plain": [
       "str"
      ]
     },
     "execution_count": 2,
     "metadata": {},
     "output_type": "execute_result"
    }
   ],
   "source": [
    "type(a)"
   ]
  },
  {
   "cell_type": "markdown",
   "id": "a42b29e1-f35f-46ae-9d02-21b22dce7150",
   "metadata": {},
   "source": [
    "(ii) list"
   ]
  },
  {
   "cell_type": "code",
   "execution_count": 3,
   "id": "bb53ba07-7d4d-4845-89ca-4173e1e966fa",
   "metadata": {},
   "outputs": [],
   "source": [
    "l = [1,2.0,\"monu\",2+8j]"
   ]
  },
  {
   "cell_type": "code",
   "execution_count": 4,
   "id": "d949afea-4e35-4f61-8e26-839a41731adb",
   "metadata": {},
   "outputs": [
    {
     "data": {
      "text/plain": [
       "list"
      ]
     },
     "execution_count": 4,
     "metadata": {},
     "output_type": "execute_result"
    }
   ],
   "source": [
    "type(l)"
   ]
  },
  {
   "cell_type": "markdown",
   "id": "5cc67547-01a8-4da9-8e8d-498df55d093e",
   "metadata": {},
   "source": [
    "(iii) float\n",
    "\n",
    "\n"
   ]
  },
  {
   "cell_type": "code",
   "execution_count": 5,
   "id": "4296a1c2-2062-46ca-bfc7-14fbae12701b",
   "metadata": {},
   "outputs": [],
   "source": [
    "b = 3.89"
   ]
  },
  {
   "cell_type": "code",
   "execution_count": 6,
   "id": "9c351ba5-9777-4101-b729-6ce5d6121ae2",
   "metadata": {},
   "outputs": [
    {
     "data": {
      "text/plain": [
       "float"
      ]
     },
     "execution_count": 6,
     "metadata": {},
     "output_type": "execute_result"
    }
   ],
   "source": [
    "type(b)"
   ]
  },
  {
   "cell_type": "markdown",
   "id": "b72d9fdb-ce03-4268-b529-8e1771ab2fd2",
   "metadata": {},
   "source": [
    "(iv) tuple\n"
   ]
  },
  {
   "cell_type": "code",
   "execution_count": 7,
   "id": "ece30a2a-5c6a-4ddf-ad56-52ae5a8feef4",
   "metadata": {},
   "outputs": [],
   "source": [
    "t = (\"Monu\" ,8,True,False,8.0)"
   ]
  },
  {
   "cell_type": "code",
   "execution_count": 8,
   "id": "d35c6798-69b5-43e3-9258-f410706bcc1c",
   "metadata": {},
   "outputs": [
    {
     "data": {
      "text/plain": [
       "tuple"
      ]
     },
     "execution_count": 8,
     "metadata": {},
     "output_type": "execute_result"
    }
   ],
   "source": [
    "type(t)"
   ]
  },
  {
   "cell_type": "markdown",
   "id": "356e515b-d17c-4a08-bdc1-af889bbe32d3",
   "metadata": {},
   "source": [
    "Q2. Given are some following variables containing data:\n",
    "\n",
    "(i)\tvar1 = ‘ ‘\n",
    "\n",
    "(ii)\tvar2 = ‘[ DS , ML , Python]’\n",
    "\n",
    "(iii)\tvar3 = [ ‘DS’ , ’ML’ , ‘Python’ ]\n",
    "\n",
    "(iv)\tvar4 = 1.\n",
    "\n",
    "What will be the data type of the above given variable."
   ]
  },
  {
   "cell_type": "markdown",
   "id": "8524a743-c961-484e-bf55-c00fe457acef",
   "metadata": {},
   "source": [
    "Solution Q2\n"
   ]
  },
  {
   "cell_type": "markdown",
   "id": "bba066b7-b6ce-4f76-b8a7-f8027d5a7003",
   "metadata": {},
   "source": [
    "(i) "
   ]
  },
  {
   "cell_type": "code",
   "execution_count": 9,
   "id": "d57f1beb-b95f-4a3c-9448-032f5bcde899",
   "metadata": {},
   "outputs": [
    {
     "data": {
      "text/plain": [
       "str"
      ]
     },
     "execution_count": 9,
     "metadata": {},
     "output_type": "execute_result"
    }
   ],
   "source": [
    "var1 = ' '\n",
    "type(var1)"
   ]
  },
  {
   "cell_type": "markdown",
   "id": "df63c17b-8fc4-4328-9c42-310832fc3fd6",
   "metadata": {},
   "source": [
    "(ii) "
   ]
  },
  {
   "cell_type": "code",
   "execution_count": 10,
   "id": "2003602b-a390-4220-8f4c-70fa039eda24",
   "metadata": {},
   "outputs": [],
   "source": [
    "var2 = '[ DS , ML , Python]'"
   ]
  },
  {
   "cell_type": "code",
   "execution_count": 11,
   "id": "dbe7b76d-a0f4-4c31-8ec0-f3e869cc3967",
   "metadata": {},
   "outputs": [
    {
     "data": {
      "text/plain": [
       "str"
      ]
     },
     "execution_count": 11,
     "metadata": {},
     "output_type": "execute_result"
    }
   ],
   "source": [
    "type(var2)"
   ]
  },
  {
   "cell_type": "markdown",
   "id": "a9e5348d-7f5a-4eea-ba5a-2f159fb47167",
   "metadata": {},
   "source": [
    "(iii)\n"
   ]
  },
  {
   "cell_type": "code",
   "execution_count": 12,
   "id": "f346a8a1-6895-4a83-a07f-e677da0a66ba",
   "metadata": {},
   "outputs": [],
   "source": [
    "var3 = [ 'DS' , 'ML' , 'Python' ]"
   ]
  },
  {
   "cell_type": "code",
   "execution_count": 13,
   "id": "325e2856-cf92-413b-8f24-06ee55777232",
   "metadata": {},
   "outputs": [
    {
     "data": {
      "text/plain": [
       "list"
      ]
     },
     "execution_count": 13,
     "metadata": {},
     "output_type": "execute_result"
    }
   ],
   "source": [
    "type(var3)"
   ]
  },
  {
   "cell_type": "markdown",
   "id": "472c2cc9-fd45-4f34-9a07-e7ec812164ab",
   "metadata": {},
   "source": [
    "(iv)"
   ]
  },
  {
   "cell_type": "code",
   "execution_count": 14,
   "id": "630f102d-9d31-4547-b068-cf2b49417976",
   "metadata": {},
   "outputs": [],
   "source": [
    "var4 = 1"
   ]
  },
  {
   "cell_type": "code",
   "execution_count": 15,
   "id": "e59a672f-860b-432d-b85a-486648e14f82",
   "metadata": {},
   "outputs": [
    {
     "data": {
      "text/plain": [
       "int"
      ]
     },
     "execution_count": 15,
     "metadata": {},
     "output_type": "execute_result"
    }
   ],
   "source": [
    "type(var4)"
   ]
  },
  {
   "cell_type": "markdown",
   "id": "d5e82376-e5f8-48a3-ae6f-b354aae50493",
   "metadata": {},
   "source": [
    "Q3. Explain the use of the following operators using an example:\n",
    "\n",
    "(i)\t/\n",
    "\n",
    "(ii)\t% \n",
    "\n",
    "(iii)\t//\n",
    "\n",
    "(iv)\t**"
   ]
  },
  {
   "cell_type": "markdown",
   "id": "3943bebe-a644-4302-8d1a-c7fa3595e55a",
   "metadata": {},
   "source": [
    "Solution Q3"
   ]
  },
  {
   "cell_type": "code",
   "execution_count": 16,
   "id": "d2c10079-48fd-4f46-9ccc-dab8a0754cef",
   "metadata": {},
   "outputs": [
    {
     "data": {
      "text/plain": [
       "0.8"
      ]
     },
     "execution_count": 16,
     "metadata": {},
     "output_type": "execute_result"
    }
   ],
   "source": [
    "#(i)\n",
    "\n",
    "4/5"
   ]
  },
  {
   "cell_type": "code",
   "execution_count": 17,
   "id": "106d6945-e100-44b2-935d-4eb9ee423ffe",
   "metadata": {},
   "outputs": [
    {
     "data": {
      "text/plain": [
       "0"
      ]
     },
     "execution_count": 17,
     "metadata": {},
     "output_type": "execute_result"
    }
   ],
   "source": [
    "#(ii)\n",
    "\n",
    "10%5"
   ]
  },
  {
   "cell_type": "code",
   "execution_count": 18,
   "id": "9975f68a-98a0-4ce6-b2f5-583a21146904",
   "metadata": {},
   "outputs": [
    {
     "data": {
      "text/plain": [
       "2"
      ]
     },
     "execution_count": 18,
     "metadata": {},
     "output_type": "execute_result"
    }
   ],
   "source": [
    "#(iii)\n",
    "\n",
    "8//3"
   ]
  },
  {
   "cell_type": "code",
   "execution_count": 19,
   "id": "6afde965-ad1f-4172-b4a2-e677d14ad6ef",
   "metadata": {},
   "outputs": [
    {
     "data": {
      "text/plain": [
       "512"
      ]
     },
     "execution_count": 19,
     "metadata": {},
     "output_type": "execute_result"
    }
   ],
   "source": [
    "#(iv)\n",
    "\n",
    "8**3"
   ]
  },
  {
   "cell_type": "markdown",
   "id": "114435f4-0199-4ff6-944b-7816cd602e69",
   "metadata": {},
   "source": [
    "Q4. Create a list of length 10 of your choice containing multiple types of data. Using for loop print the \n",
    "element and its data type."
   ]
  },
  {
   "cell_type": "markdown",
   "id": "a4fe06ea-deac-4cca-b328-54002df4a6c5",
   "metadata": {},
   "source": [
    "Solution Q4"
   ]
  },
  {
   "cell_type": "code",
   "execution_count": 20,
   "id": "60bf84e5-4300-40c1-8d66-cb1dc89495e4",
   "metadata": {},
   "outputs": [
    {
     "name": "stdout",
     "output_type": "stream",
     "text": [
      "Element no.  1 :  5 : it's Data type is  <class 'int'>\n",
      "Element no.  2 :  8.6 : it's Data type is  <class 'float'>\n",
      "Element no.  3 :  (8+8j) : it's Data type is  <class 'complex'>\n",
      "Element no.  4 :  monu : it's Data type is  <class 'str'>\n",
      "Element no.  5 :  True : it's Data type is  <class 'bool'>\n",
      "Element no.  6 :  5 : it's Data type is  <class 'int'>\n",
      "Element no.  7 :  8 : it's Data type is  <class 'int'>\n",
      "Element no.  8 :  7 : it's Data type is  <class 'int'>\n",
      "Element no.  9 :  5.5 : it's Data type is  <class 'float'>\n",
      "Element no.  10 :  Dravid : it's Data type is  <class 'str'>\n"
     ]
    }
   ],
   "source": [
    "l=[5,8.6,8+8J,\"monu\",True,5,8,7,5.5,\"Dravid\"]\n",
    "\n",
    "a=1\n",
    "\n",
    "for i in l:\n",
    "    print(\"Element no. \",a,\": \",i,\":\",\"it's Data type is \" ,type(i))\n",
    "    a += 1"
   ]
  },
  {
   "cell_type": "markdown",
   "id": "249f0316-21d6-46e8-a895-46d3adaae92d",
   "metadata": {},
   "source": [
    "Q5. Using a while loop, verify if the number A is purely divisible by number B and if so then how many \n",
    "times it can be divisible."
   ]
  },
  {
   "cell_type": "code",
   "execution_count": 21,
   "id": "f410e816-e7e9-4490-b3f1-8d85090fe566",
   "metadata": {},
   "outputs": [
    {
     "name": "stdout",
     "output_type": "stream",
     "text": [
      "15 is divisible by 10    1  times\n"
     ]
    }
   ],
   "source": [
    "a = 15;\n",
    "b = 10;\n",
    "original_a =a;\n",
    "\n",
    "\n",
    "count = 0;\n",
    "\n",
    "while a>=b:\n",
    "    a-=b\n",
    "    count +=1\n",
    "    \n",
    "if count<0:\n",
    "    print(original_a, \"is not divisible by\" ,b)\n",
    "else:\n",
    "    print(original_a, \"is divisible by\" ,b,\"  \",count,\" times\")\n",
    "\n",
    "    \n",
    "    "
   ]
  },
  {
   "cell_type": "markdown",
   "id": "fe751b82-f773-4e68-be89-f05df52f395f",
   "metadata": {},
   "source": [
    "Q6) Create a list containing 25 int type data. Using for loop and if-else condition print if the element is \n",
    "divisible by 3 or not."
   ]
  },
  {
   "cell_type": "markdown",
   "id": "cb0ec8db-2e38-4f16-b45d-79db6f343731",
   "metadata": {},
   "source": [
    "Solution Q6"
   ]
  },
  {
   "cell_type": "code",
   "execution_count": 30,
   "id": "91dcfa7e-64cc-4e02-b7be-d1169ce950ee",
   "metadata": {},
   "outputs": [
    {
     "name": "stdout",
     "output_type": "stream",
     "text": [
      "1 ) 4  is not divisible by 3\n",
      "2 ) 58  is not divisible by 3\n",
      "3 ) 74  is not divisible by 3\n",
      "4 ) 54  is divisible by 3\n",
      "5 ) 5  is not divisible by 3\n",
      "6 ) 54  is divisible by 3\n",
      "7 ) 47  is not divisible by 3\n",
      "8 ) 1  is not divisible by 3\n",
      "9 ) 53  is not divisible by 3\n",
      "10 ) 6  is divisible by 3\n",
      "11 ) 3  is divisible by 3\n",
      "12 ) 5  is not divisible by 3\n",
      "13 ) 11  is not divisible by 3\n",
      "14 ) 36  is divisible by 3\n",
      "15 ) 5  is not divisible by 3\n",
      "16 ) 4  is not divisible by 3\n",
      "17 ) 5  is not divisible by 3\n",
      "18 ) 25  is not divisible by 3\n",
      "19 ) 25  is not divisible by 3\n",
      "20 ) 14  is not divisible by 3\n",
      "21 ) 2  is not divisible by 3\n",
      "22 ) 5  is not divisible by 3\n",
      "23 ) 44  is not divisible by 3\n",
      "24 ) 45  is divisible by 3\n",
      "25 ) 5  is not divisible by 3\n"
     ]
    }
   ],
   "source": [
    "l=[4,58,74,54,5,54,47,1,53,6,3,5,11,36,5,4,5,25,25,14,2,5,44,45,5]\n",
    "\n",
    "count =0;\n",
    "\n",
    "for i in l:\n",
    "    count+=1\n",
    "    if i%3==0:\n",
    "        print(count,\")\",i,\" is divisible by 3\")\n",
    "    else:\n",
    "        print(count ,\")\",i,\" is not divisible by 3\")\n",
    "    \n",
    "    \n",
    "    "
   ]
  },
  {
   "cell_type": "markdown",
   "id": "e98f9749-5102-48d7-96e0-619f0c87283a",
   "metadata": {},
   "source": [
    "Q7. What do you understand about mutable and immutable data types? Give examples for both showing \n",
    "this property."
   ]
  },
  {
   "cell_type": "markdown",
   "id": "f325c826-15a4-44b8-8b5f-fd8795aaec61",
   "metadata": {},
   "source": [
    "Solution Q7"
   ]
  },
  {
   "cell_type": "markdown",
   "id": "923cd3ae-935e-4afd-b2d2-4892d0a48ab6",
   "metadata": {},
   "source": [
    "Mutable Data Types:\n",
    "\n",
    "Mutable data types are those whose values can be modified after creation. When you modify a mutable object, the object itself is modified in memory, and no new object is created."
   ]
  },
  {
   "cell_type": "code",
   "execution_count": 24,
   "id": "798eef55-f5f5-4342-ac32-f346ada63b27",
   "metadata": {},
   "outputs": [],
   "source": [
    "l = [234,23.4,\"Mango\",\"Orange\"]"
   ]
  },
  {
   "cell_type": "code",
   "execution_count": 25,
   "id": "1b4df6da-d9fb-4e04-b596-cbe0f34a1486",
   "metadata": {},
   "outputs": [],
   "source": [
    "l[1] =\"Monu\";"
   ]
  },
  {
   "cell_type": "code",
   "execution_count": 26,
   "id": "9fc9cd68-16d7-4c9b-8bb7-34e05e4db463",
   "metadata": {},
   "outputs": [
    {
     "data": {
      "text/plain": [
       "[234, 'Monu', 'Mango', 'Orange']"
      ]
     },
     "execution_count": 26,
     "metadata": {},
     "output_type": "execute_result"
    }
   ],
   "source": [
    "l"
   ]
  },
  {
   "cell_type": "markdown",
   "id": "5c02c2c0-3008-4d3d-8ed4-0be8866105a2",
   "metadata": {},
   "source": [
    "Here we can see that changed and modified.So that's why we can say that it is mutable."
   ]
  },
  {
   "cell_type": "markdown",
   "id": "2f510084-56ae-4c8b-83b1-741559a58494",
   "metadata": {},
   "source": [
    "Immutable data Types:"
   ]
  },
  {
   "cell_type": "markdown",
   "id": "3f5764b8-899d-40e5-89c4-e7e796cce0af",
   "metadata": {},
   "source": [
    "Immutable data types are those whose values cannot be changed after creation. When you modify an immutable object, a new object is usually created in memory to store the updated value"
   ]
  },
  {
   "cell_type": "code",
   "execution_count": 27,
   "id": "a717f1c1-69b6-4e0f-862d-dfe4d693fa25",
   "metadata": {},
   "outputs": [],
   "source": [
    "t=(234,23423,235,23423,45234,\"Monter\")"
   ]
  },
  {
   "cell_type": "code",
   "execution_count": 28,
   "id": "1af17dcc-07eb-4dc3-84c6-15b5e95b9747",
   "metadata": {},
   "outputs": [
    {
     "data": {
      "text/plain": [
       "(234, 23423, 235, 23423, 45234, 'Monter')"
      ]
     },
     "execution_count": 28,
     "metadata": {},
     "output_type": "execute_result"
    }
   ],
   "source": [
    "t"
   ]
  },
  {
   "cell_type": "code",
   "execution_count": 29,
   "id": "41b31da1-77d5-457f-bbd1-938e65ca832a",
   "metadata": {},
   "outputs": [
    {
     "ename": "TypeError",
     "evalue": "'tuple' object does not support item assignment",
     "output_type": "error",
     "traceback": [
      "\u001b[0;31m---------------------------------------------------------------------------\u001b[0m",
      "\u001b[0;31mTypeError\u001b[0m                                 Traceback (most recent call last)",
      "Cell \u001b[0;32mIn[29], line 1\u001b[0m\n\u001b[0;32m----> 1\u001b[0m \u001b[43mt\u001b[49m\u001b[43m[\u001b[49m\u001b[38;5;241;43m3\u001b[39;49m\u001b[43m]\u001b[49m\u001b[38;5;241m=\u001b[39m\u001b[38;5;124m\"\u001b[39m\u001b[38;5;124mRama\u001b[39m\u001b[38;5;124m\"\u001b[39m\n",
      "\u001b[0;31mTypeError\u001b[0m: 'tuple' object does not support item assignment"
     ]
    }
   ],
   "source": [
    "t[3]=\"Rama\""
   ]
  },
  {
   "cell_type": "markdown",
   "id": "37abe159-a2c1-435a-9b41-8ef757874894",
   "metadata": {},
   "source": [
    "So here we can see that tuple can't support this thing .means we can't changes in current tuple and modifications it is immutable."
   ]
  },
  {
   "cell_type": "code",
   "execution_count": null,
   "id": "66d11911-145c-4641-82ba-b42d7394e63f",
   "metadata": {},
   "outputs": [],
   "source": []
  }
 ],
 "metadata": {
  "kernelspec": {
   "display_name": "Python 3 (ipykernel)",
   "language": "python",
   "name": "python3"
  },
  "language_info": {
   "codemirror_mode": {
    "name": "ipython",
    "version": 3
   },
   "file_extension": ".py",
   "mimetype": "text/x-python",
   "name": "python",
   "nbconvert_exporter": "python",
   "pygments_lexer": "ipython3",
   "version": "3.11.4"
  }
 },
 "nbformat": 4,
 "nbformat_minor": 5
}
